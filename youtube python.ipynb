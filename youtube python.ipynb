{
 "cells": [
  {
   "cell_type": "code",
   "execution_count": 3,
   "id": "2f45c05c",
   "metadata": {},
   "outputs": [
    {
     "name": "stdout",
     "output_type": "stream",
     "text": [
      "5\n",
      "-10\n",
      "3.14\n",
      "8\n",
      "16\n",
      "9\n"
     ]
    }
   ],
   "source": [
    "print(5)\n",
    "print(-10)\n",
    "print(3.14)\n",
    "print(5+3)\n",
    "print(2*8)\n",
    "print((2+1)*3)\n"
   ]
  },
  {
   "cell_type": "code",
   "execution_count": 4,
   "id": "fe44831b",
   "metadata": {},
   "outputs": [
    {
     "name": "stdout",
     "output_type": "stream",
     "text": [
      "풍선\n",
      "나비\n",
      "ㅋㅋㅋㅋㅋㅋㅋㅋㅋ\n"
     ]
    }
   ],
   "source": [
    "##풍선, 나비, ㅋㅋㅋㅋ*9 출력하기\n",
    "\n",
    "print(\"풍선\")\n",
    "print(\"나비\")\n",
    "print(\"ㅋ\"*9)"
   ]
  },
  {
   "cell_type": "code",
   "execution_count": 5,
   "id": "b68ccf26",
   "metadata": {},
   "outputs": [
    {
     "name": "stdout",
     "output_type": "stream",
     "text": [
      "False\n",
      "True\n",
      "False\n"
     ]
    }
   ],
   "source": [
    "## 5>10, True, True를 이용해서 False 출력하기\n",
    "\n",
    "print(5>10)\n",
    "print(True)\n",
    "print(not True)"
   ]
  },
  {
   "cell_type": "code",
   "execution_count": 6,
   "id": "06b6b476",
   "metadata": {},
   "outputs": [
    {
     "name": "stdout",
     "output_type": "stream",
     "text": [
      "우리집강아지이름은연탄이입니다.\n",
      "연탄이는3살이며공놀이를 아주 좋아해요.\n",
      "연탄이 는 3 살이며 공놀이 를 아주 좋아해요.\n"
     ]
    }
   ],
   "source": [
    "##애완동물 소개하기- 변수 사용하기 : animal, name, age, hobby\n",
    "#1)우리집 강아지 이름은 연탄이 입니다. 2)연탄이는 3살이며 공놀이를 아주 좋아해요\n",
    "\n",
    "animal = \"강아지\"\n",
    "name = \"연탄이\"\n",
    "age = \"3\"\n",
    "hobby = \"공놀이\"\n",
    "\n",
    "print(\"우리집\" + animal + \"이름은\" + name + \"입니다.\")\n",
    "print(name + \"는\" + str(age) + \"살이며\" + hobby + \"를 아주 좋아해요.\")\n",
    "print(name, \"는\", age, \"살이며\", hobby, \"를 아주 좋아해요.\")\n"
   ]
  },
  {
   "cell_type": "code",
   "execution_count": 7,
   "id": "82c29d18",
   "metadata": {},
   "outputs": [
    {
     "name": "stdout",
     "output_type": "stream",
     "text": [
      "사당행 열차가 들어오고 있습니다.\n"
     ]
    }
   ],
   "source": [
    "## Quiz_변수를 이용해서 다음문장을 출력하시오\n",
    "# 변수명 : station / 변수값 : \"사당\", \"신도림\", \"인천공항\" 순서대로 입력\n",
    "# 출력문장 : xx행 열차가 들어오고 있습니다.\n",
    "\n",
    "station = \"사당\"\n",
    "print(station+\"행 열차가 들어오고 있습니다.\")"
   ]
  },
  {
   "cell_type": "code",
   "execution_count": 8,
   "id": "6d3f37c1",
   "metadata": {},
   "outputs": [
    {
     "name": "stdout",
     "output_type": "stream",
     "text": [
      "8\n",
      "2\n",
      "1\n",
      "True\n",
      "False\n",
      "False\n"
     ]
    }
   ],
   "source": [
    "## 연산하기\n",
    "# 2의 3제곱, 5/3의 나머지구하기, 5/3의 몫 구하기\n",
    "print(2**3)\n",
    "print(5%3)\n",
    "print(5//3)\n",
    "\n",
    "#앞의값과 뒤의값이 같음을 출력하기(3=3), 앞의값과 뒤의값이 같지않음을 출력하기\n",
    "print(3==3) \n",
    "print(3!=3)\n",
    "print(not(1 != 3))"
   ]
  },
  {
   "cell_type": "markdown",
   "id": "c0d159c2",
   "metadata": {},
   "source": [
    "# and, or 연산자"
   ]
  },
  {
   "cell_type": "code",
   "execution_count": 9,
   "id": "22504899",
   "metadata": {},
   "outputs": [
    {
     "name": "stdout",
     "output_type": "stream",
     "text": [
      "True\n",
      "True\n",
      "True\n",
      "True\n"
     ]
    }
   ],
   "source": [
    "# and - 앞뒤가 둘다 true 여야 true이고, and 와 & 는 같은 기능을 한다\n",
    "print((3<4) and (4<5))\n",
    "print((3<4) & (4<5))\n",
    "\n",
    "# or - 둘중 하나가 참이면 참이고, | 와 or 은 같은기능을한다.\n",
    "print((3>1) or (4<3))\n",
    "print((3>1) | (4<3))"
   ]
  },
  {
   "cell_type": "code",
   "execution_count": 10,
   "id": "2793b761",
   "metadata": {},
   "outputs": [
    {
     "name": "stdout",
     "output_type": "stream",
     "text": [
      "2\n"
     ]
    }
   ],
   "source": [
    "# number 에 2를 더하고, 빼고, 곱하기\n",
    "number = 3+4*2\n",
    "number = number + 2 \n",
    "number += 3 # 윗줄과 완전히 동일하다\n",
    "number = number - 4\n",
    "number -= 4\n",
    "number %= 3\n",
    "print(number)"
   ]
  },
  {
   "cell_type": "markdown",
   "id": "20877889",
   "metadata": {},
   "source": [
    "# 숫자처리함수 (최댓값, 최솟값, 반올림값)"
   ]
  },
  {
   "cell_type": "code",
   "execution_count": 12,
   "id": "8784a4cf",
   "metadata": {},
   "outputs": [
    {
     "name": "stdout",
     "output_type": "stream",
     "text": [
      "5\n",
      "16\n",
      "6\n",
      "5\n",
      "4\n",
      "5\n",
      "4.0\n"
     ]
    }
   ],
   "source": [
    "# -5의 절댓값, 4의 2승, 둘중 최댓값/최솟값고르기, 반올림값\n",
    "print(abs(-5))\n",
    "print(pow(4,2))\n",
    "print(max(5,6))\n",
    "print(min(5,6))\n",
    "\n",
    "# math 함수 이용해서 4.99의 올림, 내림, 16의제곱근값 구하기\n",
    "from math import*\n",
    "print(floor(4.99))\n",
    "print(ceil(4.99))\n",
    "print(sqrt(16))\n"
   ]
  },
  {
   "cell_type": "markdown",
   "id": "5376268c",
   "metadata": {},
   "source": [
    "# 랜덤함수 "
   ]
  },
  {
   "cell_type": "code",
   "execution_count": 16,
   "id": "068dfe2f",
   "metadata": {},
   "outputs": [
    {
     "name": "stdout",
     "output_type": "stream",
     "text": [
      "0.631301483300037\n",
      "1.5801446001648811\n",
      "10\n",
      "7\n",
      "37\n",
      "26\n",
      "오프라인 스터디모임 날짜는 매월23일로 선정되었습니다.\n"
     ]
    }
   ],
   "source": [
    "# 랜덤함수 : 난수, 무작위로 수를 뽑아주는것 \n",
    "from random import* #사용\n",
    "print(random()) # 0.0이상 1.0 미만의 임의의값 생성\n",
    "print(random()*10) # 0.0이상 10.0 미만의 임의의값 생성\n",
    "print(int(random()*10)+1) # 1.0이상 10.0 이하의 임의의값 생성\n",
    "\n",
    "## Quiz_로또값 직접 출력해보기 : 로또는 1부터 45의 숫자로 되어있음\n",
    "from random import*\n",
    "print(int(random()*45)+1) #1 이상 45이하의 임의의값 생성, 6번반복하면 됨\n",
    "print(randrange(1,46)) # 1~45\n",
    "print(randint(1, 45)) # 이건 1과 45 둘다 포함, 1~45\n",
    "\n",
    "## Quiz_당쇼ㅣㄴ은 최근 스터디모임을 새로 만들었습니다.\n",
    "# 1. 랜덤으로 날짜를 뽑아야함 2. 월별날짜는 다름을 감안하여 최소 일수인 28이내로 정함\n",
    "# 3. 매월 1-3일은 스터디 준비를 해야하므로 제외\n",
    "# 출력문예제 : 오프라인 스터디모임 날짜는 매월 x일로 선정되었습니다.\n",
    "from random import*\n",
    "date = randint(4, 28)\n",
    "print(\"오프라인 스터디모임 날짜는 매월\" + str(date)+ \"일로 선정되었습니다.\")"
   ]
  },
  {
   "cell_type": "markdown",
   "id": "3ad8e1e4",
   "metadata": {},
   "source": [
    "# 문자열"
   ]
  },
  {
   "cell_type": "code",
   "execution_count": 17,
   "id": "d414eb7d",
   "metadata": {},
   "outputs": [
    {
     "name": "stdout",
     "output_type": "stream",
     "text": [
      "나는 소년입니다.\n",
      "나는 소년입니다.\n",
      "그리고 파이썬은 쉬워요.\n"
     ]
    }
   ],
   "source": [
    "## 문자열 : 나는 소년입니다. 그리고 파이썬은 쉬워요 출력하기\n",
    "sentence = \"나는 소년입니다.\"\n",
    "print(sentence)\n",
    "sentence1 = '''나는 소년입니다.\n",
    "그리고 파이썬은 쉬워요.'''\n",
    "print(sentence1)"
   ]
  },
  {
   "cell_type": "markdown",
   "id": "87f7c470",
   "metadata": {},
   "source": [
    "# 슬라이싱"
   ]
  },
  {
   "cell_type": "code",
   "execution_count": 18,
   "id": "958c2637",
   "metadata": {},
   "outputs": [
    {
     "name": "stdout",
     "output_type": "stream",
     "text": [
      "성별: 1\n",
      "생일: 00999\n",
      "주민번호 뒷자리: 1234567\n"
     ]
    }
   ],
   "source": [
    "## 슬라이싱 예제 : 주민등록번호\n",
    "# jumin = \"009998-1234567\"\n",
    "# Quiz_: 위 주민번호의 성별, 생년월일, 뒤 7자리 출력하기\n",
    "\n",
    "jumin = \"009998-1234567\"\n",
    "print(\"성별: \" + jumin[7])\n",
    "print(\"생일: \" + jumin[0:6]) ### 주의 : [0:6]에서 6자리 미만임\n",
    "print(\"주민번호 뒷자리: \" + jumin[-7:])"
   ]
  },
  {
   "cell_type": "code",
   "execution_count": 2,
   "id": "6b0f29c5",
   "metadata": {},
   "outputs": [
    {
     "name": "stdout",
     "output_type": "stream",
     "text": [
      "python is amazing\n",
      "PYTHON IS AMAZING\n",
      "False\n",
      "java is amazing\n",
      "5\n",
      "5\n",
      "15\n",
      "2\n",
      "-1\n"
     ]
    },
    {
     "ename": "ValueError",
     "evalue": "substring not found",
     "output_type": "error",
     "traceback": [
      "\u001b[0;31m---------------------------------------------------------------------------\u001b[0m",
      "\u001b[0;31mValueError\u001b[0m                                Traceback (most recent call last)",
      "Cell \u001b[0;32mIn [2], line 20\u001b[0m\n\u001b[1;32m     17\u001b[0m \u001b[38;5;28mprint\u001b[39m(python\u001b[38;5;241m.\u001b[39mcount(\u001b[38;5;124m\"\u001b[39m\u001b[38;5;124mn\u001b[39m\u001b[38;5;124m\"\u001b[39m)) \u001b[38;5;66;03m#n이 총 몇번 등장하는지\u001b[39;00m\n\u001b[1;32m     19\u001b[0m \u001b[38;5;28mprint\u001b[39m(python\u001b[38;5;241m.\u001b[39mfind(\u001b[38;5;124m\"\u001b[39m\u001b[38;5;124mjava\u001b[39m\u001b[38;5;124m\"\u001b[39m)) \u001b[38;5;66;03m# find에서는 원하는값 없으면 -1 반환\u001b[39;00m\n\u001b[0;32m---> 20\u001b[0m \u001b[38;5;28mprint\u001b[39m(\u001b[43mpython\u001b[49m\u001b[38;5;241;43m.\u001b[39;49m\u001b[43mindex\u001b[49m\u001b[43m(\u001b[49m\u001b[38;5;124;43m\"\u001b[39;49m\u001b[38;5;124;43mjava\u001b[39;49m\u001b[38;5;124;43m\"\u001b[39;49m\u001b[43m)\u001b[49m)\n",
      "\u001b[0;31mValueError\u001b[0m: substring not found"
     ]
    }
   ],
   "source": [
    "## 문자열 처리함수\n",
    "# 소문자로, 대문자로, 0번째가 대문자인지, 변수의길이, python을 java로 바꾸기\n",
    "# 변수 : python = \"python is amazing\"\n",
    "\n",
    "python = \"python is amazing\"\n",
    "print(python.lower()) ## 소문자로 : lower\n",
    "print(python.upper())\n",
    "print(python[0].isupper()) ## 주의하기\n",
    "print(python.replace(\"python\", \"java\"))\n",
    "\n",
    "index = python.index(\"n\") \n",
    "print(index)              # n이 python에서 몇번째에 있는지 알려줌\n",
    "print(python.find(\"n\"))   # n이 python에서 몇번째에 있는지 알려줌\n",
    "index = python.index(\"n\", index +1) # 두번째 n의 위치를 찾는것\n",
    "print(index)\n",
    "\n",
    "print(python.count(\"n\")) #n이 총 몇번 등장하는지\n",
    "\n",
    "print(python.find(\"java\")) # find에서는 원하는값 없으면 -1 반환\n",
    "print(python.index(\"Java\"))\n",
    "# index에서는 원하는값 없으면 error 반환 + 오류내며 프로그램 종료"
   ]
  },
  {
   "cell_type": "markdown",
   "id": "fd254771",
   "metadata": {},
   "source": [
    "# 문자열 포맷"
   ]
  },
  {
   "cell_type": "code",
   "execution_count": 24,
   "id": "09416fe5",
   "metadata": {},
   "outputs": [
    {
     "name": "stdout",
     "output_type": "stream",
     "text": [
      "ab\n",
      "a b\n",
      "나는 20살 입니다.\n",
      "나는 파이썬를 좋아해요.\n",
      "Apple은 A로 시작해요\n",
      "나는 20살입니다.\n",
      "나는 red색과 blue색을 좋아해요\n",
      "나는 red색과 blue색을 좋아해요\n",
      "나는 20살이며, 빨간색을 좋아해요.\n",
      "나는 20살이며, 빨간색을 좋아해요\n"
     ]
    }
   ],
   "source": [
    "## 문자열 포맷\n",
    "print(\"a\"+\"b\") # ab\n",
    "print(\"a\", \"b\") # a b\n",
    "\n",
    "# 방법1 : # %뒤에있는값을 %_자리에 집어넣음\n",
    "print(\"나는 %d살 입니다.\" %20) # 숫자넣기 = %d\n",
    "print(\"나는 %s를 좋아해요.\" %\"파이썬\") # 문자열넣기 = %s -> 어떤값의형태든 변환해넣을수잇다\n",
    "print(\"Apple은 %c로 시작해요\" %\"A\") # %c = 문자 1개 character\n",
    "\n",
    "# 방법2 : #format의 값을 {}에 집어넣음\n",
    "print(\"나는 {}살입니다.\".format(20))\n",
    "print(\"나는 {}색과 {}색을 좋아해요\".format(\"red\", \"blue\"))\n",
    "print(\"나는 {0}색과 {1}색을 좋아해요\".format(\"red\", \"blue\"))\n",
    "\n",
    "# 방법3\n",
    "print(\"나는 {age}살이며, {color}색을 좋아해요.\".format(age = 20, color=\"빨간\"))\n",
    "\n",
    "# 방법4 \n",
    "age = 20\n",
    "color = \"빨간\"\n",
    "print(f\"나는 {age}살이며, {color}색을 좋아해요\")"
   ]
  },
  {
   "cell_type": "code",
   "execution_count": null,
   "id": "4a6ba019",
   "metadata": {},
   "outputs": [],
   "source": [
    "# 탈출문자 \\"
   ]
  },
  {
   "cell_type": "code",
   "execution_count": 26,
   "id": "9b0fa1be",
   "metadata": {},
   "outputs": [
    {
     "name": "stdout",
     "output_type": "stream",
     "text": [
      "저는 \"나도코딩\"입니다.\n"
     ]
    }
   ],
   "source": [
    "## 탈출문자 \\\n",
    "# \\n : 줄바꿈\n",
    "print(\"백문이 불여일견 \\n백문이 불여일타\")\n",
    "# \\\" \\' : 문장 내에서 따옴표\n",
    "print(\"저는 \\\"나도코딩\\\"입니다.\")# 저는 \"나도코딩\" 입니다.\n",
    "# \\\\ : 문장 내에서 하나의 \\\n",
    "# \\r : 커서를 맨앞으로 이동\n",
    "# \\b : 백스페이서역할 = 한글자 지움\n"
   ]
  },
  {
   "cell_type": "code",
   "execution_count": null,
   "id": "816e302f",
   "metadata": {},
   "outputs": [],
   "source": [
    "## Quiz_사이트별로 비밀번호를 만들어 주는 프로그램을 작성하시오\n",
    "# 예) http://naver.com\n",
    "# 규칙1 : http://부분은 제외한다 => naver.com 만 남음\n",
    "# 규칙2 : 처음 만나는 점(.) 이후 부분은 제외한다 => Naver만 남음\n",
    "# 규칙3 : 남은 글자중 처음 세자리 + 글자갯수 + 글자내 'e' 갯수 + \"!\" 로 구성\n",
    "#             (nav)            (5)         (1번나옴)  (!)\n",
    "# 예) 생성된 비밀번호 : nav51!\n",
    "\n",
    "url = \"https://naver.com\"\n",
    "my_str = url.replace(\"https://\",\"\")# 규칙1. url변수에서 https://부분을 빈칸으로 대체함\n",
    "print(my_url)\n",
    "?????아몰라 어려워????\n",
    "#규칙2 my_str[0:5] -> 0~5직전까지 (0,1,2,3,4)"
   ]
  },
  {
   "cell_type": "markdown",
   "id": "1d1445d2",
   "metadata": {},
   "source": [
    "# 리스트[ ] "
   ]
  },
  {
   "cell_type": "code",
   "execution_count": 6,
   "id": "d143e46a",
   "metadata": {},
   "outputs": [
    {
     "name": "stdout",
     "output_type": "stream",
     "text": [
      "['유재석', '조세호', '박명수']\n",
      "1\n",
      "['유재석', '조세호', '박명수', '하하']\n",
      "['유재석', '정형돈', '조세호', '박명수', '하하']\n",
      "하하\n",
      "['유재석', '정형돈', '조세호', '박명수']\n"
     ]
    }
   ],
   "source": [
    "##리스트[] : 순서를가지는 객체의 집합 \n",
    "\n",
    "# 지하철 칸별로 10명, 20명, 30명이있다고 가정\n",
    "# subway1 = 10\n",
    "# subway2 = 20\n",
    "# subway3 = 30\n",
    "\n",
    "# subway = [10, 20, 30] # 위에서는 3개의 서로다른 변수에 넣었지만, 리스트로는 이렇게 표현\n",
    "# print(subway)\n",
    "\n",
    "subway = [\"유재석\", \"조세호\", \"박명수\"]\n",
    "print(subway)\n",
    "\n",
    "# #조세호씨가 몇번째 칸에 타고 있는가?\n",
    "print(subway.index(\"조세호\"))\n",
    "\n",
    "# #하하씨가 다음정류장에서 다음칸에 탐\n",
    "subway.append(\"하하\")\n",
    "print(subway)\n",
    "\n",
    "# #정형돈씨를 유재석씨와 조세호씨사이에 태워봄\n",
    "subway.insert(1, \"정형돈\")  #정렬도 가능\n",
    "print(subway)\n",
    "\n",
    "# 1. append() : 리스트 마지막에 요소 추가\n",
    "# 2. extend() : 모든 요소를 리스트에 추가\n",
    "# 3. insert() : index에 요소 추가\n",
    "\n",
    "\n",
    "# #지하철에있는 사람을 한명씩 뒤에서 꺼냄\n",
    "print(subway.pop())\n",
    "print(subway)"
   ]
  },
  {
   "cell_type": "code",
   "execution_count": 7,
   "id": "4125737e",
   "metadata": {},
   "outputs": [
    {
     "name": "stdout",
     "output_type": "stream",
     "text": [
      "[54312]\n",
      "[]\n"
     ]
    }
   ],
   "source": [
    "## 정렬도 가능\n",
    "\n",
    "#[562431]리스트 정렬하기\n",
    "\n",
    "num_list = [54312]\n",
    "num_list.sort() #반대는 뒤집기인 reverse 사용하면됨\n",
    "print(num_list)\n",
    "num_list.clear() # 모두지우기\n",
    "print(num_list) \n"
   ]
  },
  {
   "cell_type": "code",
   "execution_count": 8,
   "id": "3659d576",
   "metadata": {},
   "outputs": [
    {
     "name": "stdout",
     "output_type": "stream",
     "text": [
      "['조세호', 20, True]\n",
      "[5, 2, 4, 3, 1, '조세호', 20, True]\n"
     ]
    }
   ],
   "source": [
    "# 다양한 자료형 함께사용\n",
    "\n",
    "num_list = [5,2,4,3,1]\n",
    "mix_list = [\"조세호\", 20, True]\n",
    "print(mix_list) # ['조세호, 20, True]\n",
    "\n",
    "num_list.extend(mix_list) # 리스트 확장\n",
    "print(num_list) # [5,2,4,3,1, '조세호', 20, True]"
   ]
  },
  {
   "cell_type": "markdown",
   "id": "ea81c5e5",
   "metadata": {},
   "source": [
    "# 사전"
   ]
  },
  {
   "cell_type": "code",
   "execution_count": 35,
   "id": "fa6c4d8d",
   "metadata": {},
   "outputs": [
    {
     "name": "stdout",
     "output_type": "stream",
     "text": [
      "유재석\n",
      "김태호\n",
      "유재석\n",
      "None\n",
      "사용가능\n",
      "True\n",
      "False\n",
      "유재석\n",
      "김태호\n",
      "{'A-3': '유재석', 'B-30': '김태호'}\n",
      "{'A-3': '김종국', 'B-30': '김태호', 'C-20': '조세호'}\n",
      "{'B-30': '김태호', 'C-20': '조세호'}\n",
      "dict_keys(['B-30', 'C-20'])\n",
      "dict_values(['김태호', '조세호'])\n",
      "dict_items([('B-30', '김태호'), ('C-20', '조세호')])\n",
      "{}\n"
     ]
    }
   ],
   "source": [
    "cabinet = {3:\"유재석\", 100: \"김태호\"} # 3번키에 유재석 이라는 value 값\n",
    "print(cabinet[3]) # cabinet[]에는 키값 넣어줌. 3은 키값 = 유재석\n",
    "print(cabinet[100]) #김태호\n",
    "\n",
    "print(cabinet.get(3))# 값을 가져오는 다른방법 : () 사용\n",
    "# print(cabinet[5]) # 아무에게도 할당이 안된 5 -> 오류발생후 종료시킴\n",
    "print(cabinet.get(5)) # get() 쓰먄 none 나옴\n",
    "print(cabinet.get(5, \"사용가능\"))\n",
    "\n",
    "print(3 in cabinet) # True\n",
    "print(5 in cabinet) # False\n",
    "\n",
    "cabinet = {\"A-3\":\"유재석\", \"B-30\":\"김태호\"}\n",
    "print(cabinet[\"A-3\"])\n",
    "print(cabinet[\"B-30\"])\n",
    "\n",
    "# 새손님\n",
    "print(cabinet)\n",
    "cabinet[\"A-3\"] = \"김종국\" # 이렇게되면 유재석이 빠지고 김종국으로 대체됨\n",
    "cabinet[\"C-20\"] = \"조세호\"\n",
    "print(cabinet)\n",
    "\n",
    "# 간 손님\n",
    "del cabinet[\"A-3\"] \n",
    "print(cabinet)\n",
    "\n",
    "# key 들만 출력\n",
    "print(cabinet.keys())\n",
    "\n",
    "# value 들만 출력\n",
    "print(cabinet.values())\n",
    "\n",
    "# key, value 쌍으로 출력\n",
    "print(cabinet.items())\n",
    "\n",
    "# 목욕탕 폐점\n",
    "cabinet.clear()\n",
    "print(cabinet)\n"
   ]
  },
  {
   "cell_type": "markdown",
   "id": "a1edc286",
   "metadata": {},
   "source": [
    "# 튜플"
   ]
  },
  {
   "cell_type": "code",
   "execution_count": 37,
   "id": "aa5a4745",
   "metadata": {},
   "outputs": [
    {
     "name": "stdout",
     "output_type": "stream",
     "text": [
      "돈까스\n",
      "치즈까스\n",
      "김종국 20 코딩\n"
     ]
    }
   ],
   "source": [
    "# 튜플 : 리스트와는 다르게 내용 변경이나 추가를 할수가 없음, 속도는 리스트보다 빠름\n",
    "\n",
    "menu = (\"돈까스\", \"치즈까스\") #튜플은 () 쓰고 , 사용 1.42.30~\n",
    "print(menu[0])\n",
    "print(menu[1])\n",
    "# menu.add(\"생선까스\") -> 불가능. 튜플은 수정할수없으므로 add 못씀\n",
    "\n",
    "# name = \"김종국\"\n",
    "# age = 20\n",
    "# hobby = \"코딩\"\n",
    "# print(name, age, hobby)\n",
    "##이거를 튜플로 표현하면\n",
    "\n",
    "(name, age, hobby) = (\"김종국\", 20, \"코딩\")\n",
    "print(name, age, hobby)\n"
   ]
  },
  {
   "cell_type": "markdown",
   "id": "cccaea59",
   "metadata": {},
   "source": [
    "# 집합 set"
   ]
  },
  {
   "cell_type": "code",
   "execution_count": 41,
   "id": "1c7be2cc",
   "metadata": {},
   "outputs": [
    {
     "name": "stdout",
     "output_type": "stream",
     "text": [
      "{1, 2, 3}\n",
      "{'유재석'}\n",
      "{'유재석'}\n",
      "{'유재석', '김태호', '박명수', '양세형'}\n",
      "{'유재석', '김태호', '박명수', '양세형'}\n",
      "{'김태호', '양세형'}\n",
      "{'김태호', '양세형'}\n",
      "{'유재석', '김태호', '박명수'}\n",
      "{'유재석', '양세형'}\n"
     ]
    }
   ],
   "source": [
    "#set : 중복안됨, 순서없음\n",
    "my_set = {1,2,3,3,3}\n",
    "print(my_set) # {1,2,3}\n",
    "\n",
    "java = {\"유재석\", \"김태호\", \"양세형\"}\n",
    "python = set([\"유재석\", \"박명수\"])\n",
    "\n",
    "# 교집합 (java와 python 을 모두 할 수 있는 개발자)\n",
    "print(java.intersection(python))\n",
    "print(java & python)\n",
    "\n",
    "# 합집합 : 둘중 하나만이라도 할수있는경우\n",
    "print(java|python)\n",
    "print(java.union(python))\n",
    "\n",
    "# 차집합 : java는 할수있고 python은 못하는경우\n",
    "print(java-python)\n",
    "print(java.difference(python))\n",
    "\n",
    "# python 할수있는사람이 늘어남\n",
    "python.add(\"김태호\")\n",
    "print(python)\n",
    "\n",
    "# java를 까먹음\n",
    "java.remove(\"김태호\")\n",
    "print(java)"
   ]
  },
  {
   "cell_type": "markdown",
   "id": "1b7dc095",
   "metadata": {},
   "source": [
    "# 자료구조 변경"
   ]
  },
  {
   "cell_type": "code",
   "execution_count": 42,
   "id": "a96b837d",
   "metadata": {},
   "outputs": [
    {
     "name": "stdout",
     "output_type": "stream",
     "text": [
      "{'주스', '커피', '우유'} <class 'set'>\n",
      "['주스', '커피', '우유'] <class 'list'>\n",
      "('주스', '커피', '우유') <class 'tuple'>\n",
      "{'주스', '커피', '우유'} <class 'set'>\n"
     ]
    }
   ],
   "source": [
    "# 커피숍\n",
    "\n",
    "menu = {\"커피\", \"우유\", \"주스\"}\n",
    "print(menu, type(menu))  # {'주스', '커피', '우유'} <class 'set'>\n",
    "\n",
    "menu = list(menu)\n",
    "print(menu, type(menu))  # ['주스', '커피', '우유'] <class 'list'>\n",
    "\n",
    "menu = tuple(menu)\n",
    "print(menu, type(menu))  # ('주스', '커피', '우유') <class 'tuple'>\n",
    "\n",
    "menu = set(menu)\n",
    "print(menu, type(menu))  # # {'주스', '커피', '우유'} <class 'set'>\n",
    "\n",
    "\n"
   ]
  },
  {
   "cell_type": "code",
   "execution_count": 48,
   "id": "ff4822d7",
   "metadata": {},
   "outputs": [
    {
     "name": "stdout",
     "output_type": "stream",
     "text": [
      "[1, 2, 3, 4, 5, 6, 7, 8, 9, 10, 11, 12, 13, 14, 15, 16, 17, 18, 19, 20]\n",
      "[17, 20, 7, 12, 15, 8, 1, 10, 11, 4, 5, 18, 6, 16, 13, 9, 19, 14, 2, 3]\n",
      " -- 당첨자발표 -- \n",
      "치킨 당첨자 : 15\n",
      "커피 당첨자 : [19, 12, 13]\n",
      " -- 축하합니다 -- \n"
     ]
    }
   ],
   "source": [
    "## Quiz_ 당신의 학교에서 파이썬코딩대회를 주체합니다. 댓글이벤트를 진행하는데,\n",
    "# 댓글작성자들중에 추첨을통해 1명은 치킨, 3명은 커피쿠폰을 받게됩니다. 추첨프로그램을 작성하세요\n",
    "# 조건1 : 댓글은 20명이 작성했고 아이디는 1~20이라고 가정\n",
    "#     조건2: 댓글내용과 상관없이 무작위로 추첨하되 중복 불가\n",
    "#         조건3: random모듈의 shuffle 과 sample 활용\n",
    "# (출력예제)\n",
    "# -- 당첨자발표 --\n",
    "# 치킨당첨자 : 1\n",
    "# 커피당첨자 : [2,3,4]\n",
    "# -- 축하합니다 --\n",
    "# (활용예제)\n",
    "# from random import *\n",
    "# lst = [1,2,3,4,5]\n",
    "# print(lst)\n",
    "# shuffle(lst) : lst에 있는값을 무작위로 바꿈\n",
    "# print(lst)\n",
    "# print(sample(lst, 1)) -> sample : lst에서 1개를 무작위로 뽑겠다는것\n",
    "\n",
    "from random import *\n",
    "# users = [1,2,3,4,5,6,7,8,9,10,11,12,13,14,15,16,17,18,19,20] 이거대신 [1,2,3,...]로 해도되지만, 밑에줄처럼 쓰기\n",
    "users = range(1,21) #1부터 20까지 숫자를 새엇\n",
    "# print(type(users)) # <class 'range'> 라서 리스트에서 쓰고자하는 함수 쓸수없음\n",
    "users = list(users) # range 타입이던 users가 리스트로 저장됨\n",
    "\n",
    "print(users)\n",
    "shuffle(users)\n",
    "print(users)\n",
    "\n",
    "winners = sample(users, 4) # 4명중에서 1명은 치킨, 3명은 커피(중복되면 안되므로 한번에 4명 뽑아버린다)\n",
    "\n",
    "print(\" -- 당첨자발표 -- \")\n",
    "print(\"치킨 당첨자 : {0}\".format(winners[0]))\n",
    "print(\"커피 당첨자 : {0}\".format(winners[1:]))\n",
    "print(\" -- 축하합니다 -- \")"
   ]
  },
  {
   "cell_type": "markdown",
   "id": "7271e610",
   "metadata": {},
   "source": [
    "# if 조건문"
   ]
  },
  {
   "cell_type": "code",
   "execution_count": 49,
   "id": "ddaddd43",
   "metadata": {},
   "outputs": [
    {
     "name": "stdout",
     "output_type": "stream",
     "text": [
      "오늘 날씨는 어때요? 비\n",
      "우산을 챙기세요\n"
     ]
    }
   ],
   "source": [
    "# if 조건 :\n",
    "#    실행명령문\n",
    "# weather = \"비\"\n",
    "weather = input(\"오늘 날씨는 어때요? \") # 사용자가 입력한 값이 \"오늘날씨는 어때요?\" 뒤에 출력됨\n",
    "if weather == \"비\"or weather == \"눈\":\n",
    "    print(\"우산을 챙기세요\")\n",
    "elif weather ==\"미세먼지\":\n",
    "    print(\"마스크를 챙기세요\")\n",
    "else:\n",
    "    print(\"준비물 필요없어요\")"
   ]
  },
  {
   "cell_type": "code",
   "execution_count": 62,
   "id": "d051f1c1",
   "metadata": {},
   "outputs": [
    {
     "ename": "KeyboardInterrupt",
     "evalue": "Interrupted by user",
     "output_type": "error",
     "traceback": [
      "\u001b[0;31m---------------------------------------------------------------------------\u001b[0m",
      "\u001b[0;31mKeyboardInterrupt\u001b[0m                         Traceback (most recent call last)",
      "Cell \u001b[0;32mIn [62], line 2\u001b[0m\n\u001b[1;32m      1\u001b[0m \u001b[38;5;66;03m# if 예제 : 기온\u001b[39;00m\n\u001b[0;32m----> 2\u001b[0m temp \u001b[38;5;241m=\u001b[39m \u001b[38;5;28mint\u001b[39m(\u001b[38;5;28;43minput\u001b[39;49m\u001b[43m(\u001b[49m\u001b[38;5;124;43m\"\u001b[39;49m\u001b[38;5;124;43m기온은 어때요? \u001b[39;49m\u001b[38;5;124;43m\"\u001b[39;49m\u001b[43m)\u001b[49m) \u001b[38;5;66;03m# input은 문자열형태로 값을 받기때문에 int를 써서 정수형으로 바꿔줌(기온은 숫자이기때문)\u001b[39;00m\n\u001b[1;32m      3\u001b[0m \u001b[38;5;28;01mif\u001b[39;00m \u001b[38;5;241m30\u001b[39m \u001b[38;5;241m<\u001b[39m\u001b[38;5;241m=\u001b[39m temp:\n\u001b[1;32m      4\u001b[0m     \u001b[38;5;28mprint\u001b[39m(\u001b[38;5;124m\"\u001b[39m\u001b[38;5;124m너무더워요. 나가지마세요\u001b[39m\u001b[38;5;124m\"\u001b[39m)\n",
      "File \u001b[0;32m/Library/Frameworks/Python.framework/Versions/3.10/lib/python3.10/site-packages/ipykernel/kernelbase.py:1177\u001b[0m, in \u001b[0;36mKernel.raw_input\u001b[0;34m(self, prompt)\u001b[0m\n\u001b[1;32m   1173\u001b[0m \u001b[38;5;28;01mif\u001b[39;00m \u001b[38;5;129;01mnot\u001b[39;00m \u001b[38;5;28mself\u001b[39m\u001b[38;5;241m.\u001b[39m_allow_stdin:\n\u001b[1;32m   1174\u001b[0m     \u001b[38;5;28;01mraise\u001b[39;00m StdinNotImplementedError(\n\u001b[1;32m   1175\u001b[0m         \u001b[38;5;124m\"\u001b[39m\u001b[38;5;124mraw_input was called, but this frontend does not support input requests.\u001b[39m\u001b[38;5;124m\"\u001b[39m\n\u001b[1;32m   1176\u001b[0m     )\n\u001b[0;32m-> 1177\u001b[0m \u001b[38;5;28;01mreturn\u001b[39;00m \u001b[38;5;28;43mself\u001b[39;49m\u001b[38;5;241;43m.\u001b[39;49m\u001b[43m_input_request\u001b[49m\u001b[43m(\u001b[49m\n\u001b[1;32m   1178\u001b[0m \u001b[43m    \u001b[49m\u001b[38;5;28;43mstr\u001b[39;49m\u001b[43m(\u001b[49m\u001b[43mprompt\u001b[49m\u001b[43m)\u001b[49m\u001b[43m,\u001b[49m\n\u001b[1;32m   1179\u001b[0m \u001b[43m    \u001b[49m\u001b[38;5;28;43mself\u001b[39;49m\u001b[38;5;241;43m.\u001b[39;49m\u001b[43m_parent_ident\u001b[49m\u001b[43m[\u001b[49m\u001b[38;5;124;43m\"\u001b[39;49m\u001b[38;5;124;43mshell\u001b[39;49m\u001b[38;5;124;43m\"\u001b[39;49m\u001b[43m]\u001b[49m\u001b[43m,\u001b[49m\n\u001b[1;32m   1180\u001b[0m \u001b[43m    \u001b[49m\u001b[38;5;28;43mself\u001b[39;49m\u001b[38;5;241;43m.\u001b[39;49m\u001b[43mget_parent\u001b[49m\u001b[43m(\u001b[49m\u001b[38;5;124;43m\"\u001b[39;49m\u001b[38;5;124;43mshell\u001b[39;49m\u001b[38;5;124;43m\"\u001b[39;49m\u001b[43m)\u001b[49m\u001b[43m,\u001b[49m\n\u001b[1;32m   1181\u001b[0m \u001b[43m    \u001b[49m\u001b[43mpassword\u001b[49m\u001b[38;5;241;43m=\u001b[39;49m\u001b[38;5;28;43;01mFalse\u001b[39;49;00m\u001b[43m,\u001b[49m\n\u001b[1;32m   1182\u001b[0m \u001b[43m\u001b[49m\u001b[43m)\u001b[49m\n",
      "File \u001b[0;32m/Library/Frameworks/Python.framework/Versions/3.10/lib/python3.10/site-packages/ipykernel/kernelbase.py:1219\u001b[0m, in \u001b[0;36mKernel._input_request\u001b[0;34m(self, prompt, ident, parent, password)\u001b[0m\n\u001b[1;32m   1216\u001b[0m             \u001b[38;5;28;01mbreak\u001b[39;00m\n\u001b[1;32m   1217\u001b[0m \u001b[38;5;28;01mexcept\u001b[39;00m \u001b[38;5;167;01mKeyboardInterrupt\u001b[39;00m:\n\u001b[1;32m   1218\u001b[0m     \u001b[38;5;66;03m# re-raise KeyboardInterrupt, to truncate traceback\u001b[39;00m\n\u001b[0;32m-> 1219\u001b[0m     \u001b[38;5;28;01mraise\u001b[39;00m \u001b[38;5;167;01mKeyboardInterrupt\u001b[39;00m(\u001b[38;5;124m\"\u001b[39m\u001b[38;5;124mInterrupted by user\u001b[39m\u001b[38;5;124m\"\u001b[39m) \u001b[38;5;28;01mfrom\u001b[39;00m \u001b[38;5;28mNone\u001b[39m\n\u001b[1;32m   1220\u001b[0m \u001b[38;5;28;01mexcept\u001b[39;00m \u001b[38;5;167;01mException\u001b[39;00m:\n\u001b[1;32m   1221\u001b[0m     \u001b[38;5;28mself\u001b[39m\u001b[38;5;241m.\u001b[39mlog\u001b[38;5;241m.\u001b[39mwarning(\u001b[38;5;124m\"\u001b[39m\u001b[38;5;124mInvalid Message:\u001b[39m\u001b[38;5;124m\"\u001b[39m, exc_info\u001b[38;5;241m=\u001b[39m\u001b[38;5;28;01mTrue\u001b[39;00m)\n",
      "\u001b[0;31mKeyboardInterrupt\u001b[0m: Interrupted by user"
     ]
    }
   ],
   "source": [
    "# if 예제 : 기온\n",
    "temp = int(input(\"기온은 어때요? \")) # input은 문자열형태로 값을 받기때문에 int를 써서 정수형으로 바꿔줌(기온은 숫자이기때문)\n",
    "if 30 <= temp:\n",
    "    print(\"너무더워요. 나가지마세요\")\n",
    "elif 10 <= temp and temp < 30:  #둘다 성립할때\n",
    "    print(\"괜찮은 날씨에요\")\n",
    "elif 0<= temp <10:  #and 안쓰고도 이렇게 표현가능\n",
    "    print(\"외투를 챙기세요\")\n",
    "else:\n",
    "    print(\"너무추워요. 나가지마세요\")"
   ]
  },
  {
   "cell_type": "markdown",
   "id": "1f22ecd9",
   "metadata": {},
   "source": [
    "# 반복문 for"
   ]
  },
  {
   "cell_type": "code",
   "execution_count": null,
   "id": "6953b7f3",
   "metadata": {},
   "outputs": [],
   "source": [
    "# 반복문 for\n",
    "\n",
    "# print(\"대기번호 : 1\")\n",
    "# print(\"대기번호 : 2\")\n",
    "# print(\"대기번호 : 3\")\n",
    "# print(\"대기번호 : 4\")\n",
    "\n",
    "for waiting_no in [0,1,2,3,4]: # in뒤에있는 리스트값들이 하나씩 waiting-no안에 들어간다\n",
    "             # in range(5): -> # 동일한 결과값 나온다(0,1,2,3,4 순차적으로 넣으라는 뜻)\n",
    "             # in range(1,6):  # 1,2,3,4,5\n",
    "    print(\"대기번호 : {0}\".format(waiting_no))\n",
    "\n",
    "# 왜 에러 뜨지 ???????? range??\n",
    "\n",
    "# 비슷한 예제 : starbucks\n",
    "# starbucks = [\"아이언맨\", \"토르\", \"아이엠 그루트\"]\n",
    "# for customer in starbucks:\n",
    "#     print(\"{0}, 커피가 준비되었습니다.\".format(customer))"
   ]
  },
  {
   "cell_type": "markdown",
   "id": "f5b20207",
   "metadata": {},
   "source": [
    "# while"
   ]
  },
  {
   "cell_type": "code",
   "execution_count": 57,
   "id": "c5743b9f",
   "metadata": {},
   "outputs": [
    {
     "name": "stdout",
     "output_type": "stream",
     "text": [
      "토르, 커피가 준비되었습니다.\n",
      "이름이 어떻게 되세요? 아이언맨\n",
      "토르, 커피가 준비되었습니다.\n",
      "이름이 어떻게 되세요? 토르\n"
     ]
    }
   ],
   "source": [
    "# while\n",
    "# 토르 customer, 커피가 준비되었습니다를 5번 부르면 커피는 폐기처분됨\n",
    "\n",
    "# customer = \"토르\"\n",
    "# index = 5\n",
    "# while index >= 1:\n",
    "#     print(\"{0}, 커피가 준비되었습니다. {1}번 남았어요.\".format(customer, index))\n",
    "#     index -= 1\n",
    "#     if index == 0:\n",
    "#         print(\"커피는 폐기처분되었습니다.\")\n",
    "        \n",
    "        \n",
    "# customer = \"아이언맨\"\n",
    "# index = 1\n",
    "# while True:\n",
    "#         print(\"{0}, 커피가 준비되었습니다. 호출{1} 회.\".format(customer, index))\n",
    "#         index += 1   # 이렇게되면 무한루프에 빠지게 됨. 계속 호출됨. 종료하기위해선 ctrl+c =강제종료\n",
    "        \n",
    "        \n",
    "## 종업원이 손님을 부르고, 손님은 내커피준비됐나요? 물어보고, 종업원은 이름이무엇인가요?\n",
    "customer = \"토르\"\n",
    "person = \"unknown\"\n",
    "    \n",
    "while person != customer :  # while 문은 아래코드 모두 일치시에만 종료가됨\n",
    "        print(\"{0}, 커피가 준비되었습니다.\".format(customer))\n",
    "        person = input(\"이름이 어떻게 되세요? \")\n",
    "\n",
    "\n",
    "\n"
   ]
  },
  {
   "cell_type": "markdown",
   "id": "b5109f90",
   "metadata": {},
   "source": [
    "# continue, break"
   ]
  },
  {
   "cell_type": "code",
   "execution_count": 59,
   "id": "9d5f56ff",
   "metadata": {},
   "outputs": [
    {
     "name": "stdout",
     "output_type": "stream",
     "text": [
      "1, 책을 읽어봐\n",
      "3, 책을 읽어봐\n",
      "4, 책을 읽어봐\n",
      "6, 책을 읽어봐\n",
      "오늘수업 여기까지. 7은 교무실로 따라와.\n"
     ]
    }
   ],
   "source": [
    "# continue 와 break : 반복문내에서 쓸수있음\n",
    "# 선생님이 교실에서 학생들에게 출석번호 하나씩 커지면서 책 읽으라함\n",
    "absent = [2, 5] # absent\n",
    "no_book = [7]  # 책을 깜빡했음\n",
    "for student in range(1,11): #1부터 10번가지 학생들 있음\n",
    "    if student in absent:  # 만약 학생이 absent안에 있다면, 즉 결석했다면\n",
    "        continue     # continue를 만나게되면 다음문장인 print를 실행하지않고 다시 위 코드로 가서 실행시킴\n",
    "    elif student in no_book:\n",
    "        print(\"오늘수업 여기까지. {0}은 교무실로 따라와.\".format(student))\n",
    "        break    # break만나면 바로 반복문 탈출한다\n",
    "    print(\"{0}, 책을 읽어봐\".format(student))\n",
    "\n"
   ]
  },
  {
   "cell_type": "code",
   "execution_count": 60,
   "id": "9b334ab3",
   "metadata": {},
   "outputs": [
    {
     "name": "stdout",
     "output_type": "stream",
     "text": [
      "[1, 2, 3, 4, 5]\n",
      "[101, 102, 103, 104, 105]\n"
     ]
    }
   ],
   "source": [
    "# 한줄 for\n",
    "# 출석번호가 1 2 3 4, 였지만, 앞에 100을 붙이기로함 -> 101, 102, 103, 104\n",
    "students  = [1,2,3,4,5]\n",
    "print(students)\n",
    "students = [i+100 for i in students]\n",
    "# i에다가 100을 더할건데, i는 students라는 리스트에서 가져와서 하나씩 넣어라\n",
    "print(students)\n",
    "\n",
    "# 학생들이름을 길이로 변환하기\n",
    "students = [\"Iron man\", \"Thor\", \"I am groot\"]  # 이 문자열을 글자갯수인 길이로 바꾸고싶음\n",
    "students = [len(i) for i in students]  \n",
    "#len는 문자열이나 값의 길이를 의미함. i는 위에서선언한 students라는 리스트에서 하나씩 가져옴\n",
    "print(students)\n",
    "\n",
    "\n",
    "#학생이름을 대문자로 변환\n",
    "students = [\"Iron man\", \"Thor\", \"I am groot\"]\n",
    "students = [i.upper()for i in students]\n",
    "print(students)\n",
    "\n"
   ]
  },
  {
   "cell_type": "code",
   "execution_count": 65,
   "id": "86f9e6f9",
   "metadata": {},
   "outputs": [
    {
     "name": "stdout",
     "output_type": "stream",
     "text": [
      "[] 1번째 손님 (소요시간 : 47분)\n",
      "[0] 2번째 손님 (소요시간 : 14분)\n",
      "[] 3번째 손님 (소요시간 : 34분)\n",
      "[] 4번째 손님 (소요시간 : 35분)\n",
      "[] 5번째 손님 (소요시간 : 35분)\n",
      "[] 6번째 손님 (소요시간 : 35분)\n",
      "[] 7번째 손님 (소요시간 : 29분)\n",
      "[] 8번째 손님 (소요시간 : 25분)\n",
      "[] 9번째 손님 (소요시간 : 28분)\n",
      "[0] 10번째 손님 (소요시간 : 5분)\n",
      "[0] 11번째 손님 (소요시간 : 12분)\n",
      "[] 12번째 손님 (소요시간 : 46분)\n",
      "[0] 13번째 손님 (소요시간 : 6분)\n",
      "[] 14번째 손님 (소요시간 : 33분)\n",
      "[] 15번째 손님 (소요시간 : 38분)\n",
      "[] 16번째 손님 (소요시간 : 32분)\n",
      "[0] 17번째 손님 (소요시간 : 10분)\n",
      "[0] 18번째 손님 (소요시간 : 14분)\n",
      "[] 19번째 손님 (소요시간 : 36분)\n",
      "[] 20번째 손님 (소요시간 : 16분)\n",
      "[] 21번째 손님 (소요시간 : 36분)\n",
      "[] 22번째 손님 (소요시간 : 33분)\n",
      "[] 23번째 손님 (소요시간 : 46분)\n",
      "[0] 24번째 손님 (소요시간 : 12분)\n",
      "[0] 25번째 손님 (소요시간 : 7분)\n",
      "[] 26번째 손님 (소요시간 : 26분)\n",
      "[] 27번째 손님 (소요시간 : 36분)\n",
      "[] 28번째 손님 (소요시간 : 22분)\n",
      "[] 29번째 손님 (소요시간 : 22분)\n",
      "[] 30번째 손님 (소요시간 : 42분)\n",
      "[0] 31번째 손님 (소요시간 : 10분)\n",
      "[] 32번째 손님 (소요시간 : 20분)\n",
      "[] 33번째 손님 (소요시간 : 16분)\n",
      "[0] 34번째 손님 (소요시간 : 10분)\n",
      "[0] 35번째 손님 (소요시간 : 5분)\n",
      "[] 36번째 손님 (소요시간 : 47분)\n",
      "[] 37번째 손님 (소요시간 : 48분)\n",
      "[] 38번째 손님 (소요시간 : 17분)\n",
      "[] 39번째 손님 (소요시간 : 30분)\n",
      "[] 40번째 손님 (소요시간 : 46분)\n",
      "[] 41번째 손님 (소요시간 : 29분)\n",
      "[] 42번째 손님 (소요시간 : 48분)\n",
      "[] 43번째 손님 (소요시간 : 21분)\n",
      "[] 44번째 손님 (소요시간 : 42분)\n",
      "[] 45번째 손님 (소요시간 : 27분)\n",
      "[] 46번째 손님 (소요시간 : 22분)\n",
      "[] 47번째 손님 (소요시간 : 26분)\n",
      "[] 48번째 손님 (소요시간 : 47분)\n",
      "[0] 49번째 손님 (소요시간 : 14분)\n",
      "[] 50번째 손님 (소요시간 : 37분)\n",
      "총 탑승 승객 : 12 분\n"
     ]
    }
   ],
   "source": [
    "## Quiz\n",
    "# 당신은 cocoa 서비스를 이용하는 택시기사님입니다.\n",
    "# 50명의 승객과 매칭기회가있을때, 총 탑승승객수를 구하는 프로그램을 작성하세요\n",
    "\n",
    "# 조건1 : 승객별 운행 소요시간은 5분~50분사이의 난수로 정해짐\n",
    "# 조건2 : 당신은 소요시간 5분~15분사이의 승객만 매칭해야함\n",
    "\n",
    "# (출력문예제)\n",
    "# [0] 1번째 손님 (소요시간 : 15분)\n",
    "# [0] 2번째 손님 (소요시간 : 50분)\n",
    "# [0] 3번째 손님 (소요시간 : 5분)\n",
    "# ...\n",
    "# [0] 50번째 손님 (소요시간 : 15분)\n",
    "\n",
    "# 총 탑승 승객 : 2분\n",
    "\n",
    "from random import *\n",
    "cnt = 0  # 총 탑승 승객수\n",
    "for i in range(1,51) :  # 1~50 이라는 승객의 수\n",
    "    time = randrange(5,51)\n",
    "    if 5<= time <= 15:\n",
    "        print(\"[0] {0}번째 손님 (소요시간 : {1}분)\".format(i, time))\n",
    "        cnt += 1\n",
    "    else:  # 매칭 실패한 경우\n",
    "        print(\"[] {0}번째 손님 (소요시간 : {1}분)\".format(i, time))\n",
    "        \n",
    "print(\"총 탑승 승객 : {0} 분\".format(cnt))\n",
    "\n",
    "\n",
    "#####이 예제 다시 해보기\n"
   ]
  },
  {
   "cell_type": "markdown",
   "id": "d3434d26",
   "metadata": {},
   "source": [
    "# 함수 def"
   ]
  },
  {
   "cell_type": "code",
   "execution_count": 3,
   "id": "314473a7",
   "metadata": {},
   "outputs": [
    {
     "name": "stdout",
     "output_type": "stream",
     "text": [
      "새로운 계좌가 생성되었습니다.\n",
      "입금이 완료되었습니다. 잔액은 1000원 입니다.\n",
      "1000\n",
      "출금이 완료되지 않았습니다. 잔액은 1000원 입니다.\n",
      "출금이 완료되었습니다. 잔액은 500원 입니다.\n",
      "수수료는 100원이이며, 잔액은 -100원 입니다.\n"
     ]
    }
   ],
   "source": [
    "# 함수  \n",
    "\n",
    "def open_account():\n",
    "    print(\"새로운 계좌가 생성되었습니다.\")    # 함수를 정의한 것\n",
    "    \n",
    "open_account()   # 함수 출력됨\n",
    "\n",
    "# 전달값과 반환값\n",
    "\n",
    "def deposit(balance, money):   # 입금하는 함수  , 잔액 = balance, 입금하려는돈 = money\n",
    "    print(\"입금이 완료되었습니다. 잔액은 {0}원 입니다.\".format(balance+money))\n",
    "    return balance+money\n",
    "def withdraw(balance, money):  # 출금하는 함수\n",
    "    if balance >= money : # 잔액이 출금보다 많으면\n",
    "        print(\"출금이 완료되었습니다. 잔액은 {0}원 입니다.\".format(balance - money))\n",
    "        return balance - money\n",
    "    else:\n",
    "        print(\"출금이 완료되지 않았습니다. 잔액은 {0}원 입니다.\".format(balance))\n",
    "        return balance\n",
    "    \n",
    "def withdraw_night(balance, money): # 저녁에 출금, 수수료 붙음\n",
    "    commission = 100   # 수수료 100원\n",
    "    return commission, balance - money - commission\n",
    "    \n",
    "    \n",
    "balance = 0  \n",
    "balance = deposit(balance, 1000)  # balance 라는 함수 호출해서 money에다가 1000원 넣는것\n",
    "print(balance)   # 0 + 1000원 프린트됨\n",
    "balance = withdraw(balance, 2000)\n",
    "balance = withdraw(balance, 500)\n",
    "commission, balance = withdraw_night(balance, 500)\n",
    "print(\"수수료는 {0}원이이며, 잔액은 {1}원 입니다.\".format(commission, balance))\n"
   ]
  },
  {
   "cell_type": "code",
   "execution_count": 6,
   "id": "603541f2",
   "metadata": {},
   "outputs": [
    {
     "name": "stdout",
     "output_type": "stream",
     "text": [
      "이름 : 유재석\t나이 : 17\t주 사용언어 : 파이썬\n",
      "이름 : 김태호\t나이 : 17\t주 사용언어 : 파이썬\n"
     ]
    }
   ],
   "source": [
    "# 기본값\n",
    "\n",
    "# def profile(name, age, main_lang):\n",
    "#     print(\"이름 : {0}\\t나이 : {1}\\t주 사용언어 : {2}\" \\\n",
    "#          .format(name, age, maun_lang))\n",
    "    \n",
    "# profile(\"유재석\", 20, \"파이썬\")\n",
    "\n",
    "# 같은학교 같은학년 같은반 같은수업 : 이름만 다를것 : 이때사용되는것 = 기본값\n",
    "def profile(name, age=17, main_lang=\"파이썬\"):    # 기본값설정\n",
    "    print(\"이름 : {0}\\t나이 : {1}\\t주 사용언어 : {2}\" \\\n",
    "         .format(name, age, main_lang))\n",
    "profile(\"유재석\")\n",
    "profile(\"김태호\")"
   ]
  },
  {
   "cell_type": "code",
   "execution_count": 7,
   "id": "794cca31",
   "metadata": {},
   "outputs": [
    {
     "ename": "IndentationError",
     "evalue": "expected an indented block after function definition on line 3 (2064352072.py, line 6)",
     "output_type": "error",
     "traceback": [
      "\u001b[0;36m  Cell \u001b[0;32mIn [7], line 6\u001b[0;36m\u001b[0m\n\u001b[0;31m    profile(name=\"유재석\", main_lang = \"파이썬\", age = 20)\u001b[0m\n\u001b[0m    ^\u001b[0m\n\u001b[0;31mIndentationError\u001b[0m\u001b[0;31m:\u001b[0m expected an indented block after function definition on line 3\n"
     ]
    }
   ],
   "source": [
    "#키워드값\n",
    "\n",
    "def profile(name, age, main_lang): \n",
    "    \n",
    "#name, age, main_lang 처럼 키워드값 입력해주고 호출하면 순서 바껴도 호출가능\n",
    "profile(name=\"유재석\", main_lang = \"파이썬\", age = 20)\n",
    "profile(main_lang = \"자바\", age = 25, name=\"김태호\")"
   ]
  },
  {
   "cell_type": "markdown",
   "id": "17d31f5a",
   "metadata": {},
   "source": [
    "# 가변인자"
   ]
  },
  {
   "cell_type": "code",
   "execution_count": 10,
   "id": "0a6b0f22",
   "metadata": {},
   "outputs": [
    {
     "name": "stdout",
     "output_type": "stream",
     "text": [
      "이름 : 유재석\t나이 : 20\t python\n",
      "java\n",
      "C\n",
      "c++\n",
      "c#\n",
      "java script\n",
      "이름 : 김태호\t나이 : 25\t Kotlin\n",
      "\n",
      "\n",
      "\n",
      "\n"
     ]
    }
   ],
   "source": [
    "# 가변인자  : 2.43.10\n",
    "\n",
    "# def profile(name, age, lang1, lang2, lang3, lang4, lang5):\n",
    "#     print(\"name: {0}\\tage: {1}\\t\".format(name, age), end=\" \") # 이렇게하면 밑에줄까지 바로 출력\n",
    "#     print(lang1,lang2, lang3, lang4, lang5)\n",
    "    \n",
    "def profile(name, age, *language):   # language 원하는만큼 넣을수있음\n",
    "    print(\"이름 : {0}\\t나이 : {1}\\t\".format(name, age), end=\" \") # 이렇게하면 밑에줄까지 바로 출력\n",
    "    for lang in language:\n",
    "        print(lang, end = \"\")\n",
    "        print()\n",
    "    \n",
    "profile(\"유재석\", 20, \"python\", \"java\", \"C\", \"c++\", \"c#\", \"java script\")\n",
    "profile(\"김태호\", 25, \"Kotlin\", \"\", \"\", \"\", \"\")"
   ]
  },
  {
   "cell_type": "markdown",
   "id": "a68a38f2",
   "metadata": {},
   "source": [
    "# 지역변수와 전역변수"
   ]
  },
  {
   "cell_type": "code",
   "execution_count": 12,
   "id": "5f820555",
   "metadata": {},
   "outputs": [
    {
     "name": "stdout",
     "output_type": "stream",
     "text": [
      "전체 총 : 10\n",
      "[함수 내] 남은 총 : 8\n",
      "남은 총 : 8\n"
     ]
    }
   ],
   "source": [
    "# 지역변수 : 함수내에서만 사용 / 전역변수 : 모든공간에서 사용\n",
    "\n",
    "gun = 10\n",
    "def checkpoint(soldiers): # 경계근무나가는 군인의수\n",
    "    global gun # 전역공간에있는 gun 사용\n",
    "    gun = gun-soldiers\n",
    "    print(\"[함수 내] 남은 총 : {0}\".format(gun))\n",
    "    \n",
    "def checkpoint_ret(gun, soldiers):\n",
    "    gun = gun-soldiers\n",
    "    print(\"[함수 내] 남은 총 : {0}\".format(gun))\n",
    "    return gun\n",
    "    \n",
    "print(\"전체 총 : {0}\".format(gun))\n",
    "checkpoint(2) # 2명이 경계근무 나감\n",
    "print(\"남은 총 : {0}\".format(gun))"
   ]
  },
  {
   "cell_type": "code",
   "execution_count": 15,
   "id": "8a7bb863",
   "metadata": {},
   "outputs": [
    {
     "name": "stdout",
     "output_type": "stream",
     "text": [
      "키 175cm 남자의 표준 체중은 67.38kg 입니다.\n"
     ]
    }
   ],
   "source": [
    "# Quiz 표준 체중을 구하는 프로그램을 작성하시오\n",
    "\n",
    "# 표준체중 : 각 개인의 키에 적당한 체중\n",
    "# 성별에따른 공식)\n",
    "# 남자 : 키(m) * 키(m) * 22\n",
    "# 여자 : 키(m) * 키(m) * 21\n",
    "\n",
    "# 조건1) 표준체중은 별도의 함수내에서 계산\n",
    "#     함수명 : std_weight\n",
    "#     전달값 : 키(height), 성별(gender)\n",
    "# 조건2) 표준체중은 소수점 둘째자리까지 표시\n",
    "\n",
    "# 출력예제) 키 175cm 남자의 표준 체중은 67.38kg 입니다.\n",
    "\n",
    "# 키 m단위 : 실수 / 성별 : \"남자\", \"여자\" string으로 받음 \n",
    "def std_weight(height, gender):   # 여기서의 height 는 m단위임\n",
    "    if gender == \"남자\":\n",
    "        return height * height * 22\n",
    "    else:\n",
    "        return height * height * 21\n",
    "    \n",
    "height = 175 # cm단위임\n",
    "gender = \"남자\"\n",
    "weight = round(std_weight(height / 100, gender),2) #round함수로 소수점 2째자리까지 표시\n",
    "                                   # height가 cm 단위이므로 100으로 나눔\n",
    "print(\"키 {0}cm {1}의 표준 체중은 {2}kg 입니다.\".format(height, gender, weight))"
   ]
  },
  {
   "cell_type": "markdown",
   "id": "fd84d182",
   "metadata": {},
   "source": [
    "# 표준 입출력"
   ]
  },
  {
   "cell_type": "code",
   "execution_count": null,
   "id": "86e4f8f6",
   "metadata": {},
   "outputs": [],
   "source": [
    "# 표준 입출력\n",
    "\n",
    "print(\"python\", \"java\")  # python java\n",
    "print(\"python\", \"java\", sep=\",\")  # python,java\n",
    "print(\"python\", \"java\", sep=\" vs \")  # python vs java\n",
    "print(\"python\", \"java\", \"java script\", sep=\" vs \")\n",
    "\n",
    "print(\"python\", \"java\", sep=\",\", end=\"?\")  # end의 이미는 이 문장의끝부분을 ?로 바꿔달라는것\n",
    "print(\"무엇이더재밌을까요?\")    # python,java?무엇이더재밌을까요? 처럼 한문장에 출력됨\n",
    "\n",
    "# import sys\n",
    "# print(\"python\", \"java\", file=sys.stdout) # 표준출력으로 문장이 찍힘\n",
    "# print(\"python\", \"java\", file=sys.stderr) # 표준에러로 문장이찍힘\n",
    "\n",
    "\n",
    "# 시험성적\n",
    "scores = {\"수학\" : 0, \"영어\" : 50, \"코딩\": 100}  # 딕셔너리니깐, 수학= 키값, 점수=valu값\n",
    "for subject, score in scores.items():  # items 는 키와 value 쌍으로 튜플로 돌려줌\n",
    "    print(subject.ljust(8), str(score).rjust(4), sep=\":\")  # .ljust(8)의미 : 총 8칸확보해서 왼쪽정렬하고 점수표시해라\n",
    "\n",
    "# 은행 대기 순번표\n",
    "# 001, 002, 003, ...\n",
    "for num in range(1,21):  # 1~20까지\n",
    "    print(\"대기번호 : \" + str(num).zfill(3))  #.zfill(3) = 3크기만큼 공간 확보하고 값없는공간은 0을 채워넣어라\n",
    "\n",
    "# 표준입력\n",
    "answer = input(\"아무값이나 입력하세요 : \")\n",
    "print(type(answer))\n",
    "print(\"입력하신값은 \" + answer + \"입니다.\")   # 숫자나 문자 모두 출력 가능"
   ]
  },
  {
   "cell_type": "code",
   "execution_count": 19,
   "id": "9eedca01",
   "metadata": {},
   "outputs": [
    {
     "name": "stderr",
     "output_type": "stream",
     "text": [
      "python java\n"
     ]
    },
    {
     "name": "stdout",
     "output_type": "stream",
     "text": [
      "python java\n",
      "python,java\n",
      "python vs java\n",
      "python vs java vs java script\n",
      "python,java?무엇이더재밌을까요?\n",
      "python java\n",
      "수학      :   0\n",
      "영어      :  50\n",
      "코딩      : 100\n",
      "대기번호 : 001\n",
      "대기번호 : 002\n",
      "대기번호 : 003\n",
      "대기번호 : 004\n",
      "대기번호 : 005\n",
      "대기번호 : 006\n",
      "대기번호 : 007\n",
      "대기번호 : 008\n",
      "대기번호 : 009\n",
      "대기번호 : 010\n",
      "대기번호 : 011\n",
      "대기번호 : 012\n",
      "대기번호 : 013\n",
      "대기번호 : 014\n",
      "대기번호 : 015\n",
      "대기번호 : 016\n",
      "대기번호 : 017\n",
      "대기번호 : 018\n",
      "대기번호 : 019\n",
      "대기번호 : 020\n",
      "아무값이나 입력하세요 : 3\n",
      "<class 'str'>\n",
      "입력하신값은 3입니다.\n"
     ]
    }
   ],
   "source": [
    "# 표준 입출력\n",
    "print(\"python\", \"java\") # python java \n",
    "print(\"python\", \"java\", sep=\",\") # python,java \n",
    "print(\"python\", \"java\", sep=\" vs \") # python vs java \n",
    "print(\"python\", \"java\", \"java script\", sep=\" vs \")\n",
    "\n",
    "print(\"python\", \"java\", sep=\",\", end=\"?\") # end의 이미는 이 문장의끝부분을 ?로 바꿔달라는것 \n",
    "print(\"무엇이더재밌을까요?\") # python,java?무엇이더재밌을까요? 처럼 한문장에 출력됨\n",
    "\n",
    "import sys\n",
    "print(\"python\", \"java\", file=sys.stdout) # 표준출력으로 문장이 찍힘\n",
    "print(\"python\", \"java\", file=sys.stderr) # 표준에러로 문장이찍힘\n",
    "\n",
    "#시험성적\n",
    "scores = {\"수학\" : 0, \"영어\" : 50, \"코딩\": 100} # 딕셔너리니깐, 수학= 키값, 점수=valu값 \n",
    "for subject, score in scores.items(): # items 는 키와 value 쌍으로 튜플로 돌려줌 \n",
    "    print(subject.ljust(8), str(score).rjust(4), sep=\":\") # .ljust(8)의미 : 총 8칸확보해서 왼쪽정렬하고 점수표시해라\n",
    "\n",
    "# 은행 대기 순번표\n",
    "# 001, 002, 003, ...\n",
    "for num in range(1,21): # 1~20까지 \n",
    "    print(\"대기번호 : \" + str(num).zfill(3)) #.zfill(3) = 3크기만큼 공간 확보하고 값없는공간은 0을 채워넣어라\n",
    "\n",
    "# 표준입력\n",
    "answer = input(\"아무값이나 입력하세요 : \") # 사용자입력 통해 받은값은 항상 문자열형태로 저장됨\n",
    "print(type(answer))\n",
    "print(\"입력하신값은 \" + answer + \"입니다.\") # 숫자나 문자 모두 출력 가능"
   ]
  },
  {
   "cell_type": "markdown",
   "id": "093ac5da",
   "metadata": {},
   "source": [
    "# 다양한 출력 포맷"
   ]
  },
  {
   "cell_type": "code",
   "execution_count": 13,
   "id": "532e7f8c",
   "metadata": {},
   "outputs": [
    {
     "name": "stdout",
     "output_type": "stream",
     "text": [
      "       500\n",
      "      +500\n",
      "    -50000\n",
      "+500______\n",
      "10,000,000,000\n",
      "-10,000,000,000\n",
      "+1000000000000000^^^^^^^^^^^^^\n",
      "1.666667\n",
      "1.666667\n"
     ]
    }
   ],
   "source": [
    "# 다양한 출력 포맷 : 3.10.20\n",
    "\n",
    "# 빈 자리는 빈공간으로 두고, 오른쪽정렬을 하고, 총 10자 공간을 확보\n",
    "print(\"{0: >10}\".format(500))  # 부호가 없으므로 그냥 500으로 찍힘\n",
    "# 양수일땐 +로, 음수일땐 -로 표시 ex주식 가격변동\n",
    "print(\"{0: >+10}\".format(500))  # + 부호가있기때문에 +500으로 찍힘\n",
    "print(\"{0: >+10}\".format(-50000))\n",
    "# 왼쪽정렬하고, 빈칸을 ___로 채움\n",
    "print(\"{0:_<+10}\".format(500))\n",
    "# 3자리마다 , 찍어주기 ex 큰 수\n",
    "print(\"{0:,}\".format(10000000000))\n",
    "# 3자리마다 , +- 부호도 붙이기\n",
    "print(\"{0:,}\".format(-10000000000))\n",
    "\n",
    "# 3자리마다 , 찍어주고, 부호붙이고, 자릿수 확보하고, 돈이많으면 행복하니 빈자리는 ^로 채우기\n",
    "print(\"{0:^<+30}\".format(1000000000000000))\n",
    "# 소수점 출력\n",
    "print(\"{0:f}\".format(5/3))\n",
    "#소수점 특정 자리수 까지만 표시 (소수점3째자리에서 반올림)\n",
    "print(\"{0:2f}\".format(5/3))\n"
   ]
  },
  {
   "cell_type": "markdown",
   "id": "8e174ac5",
   "metadata": {},
   "source": [
    "# 파일 입출력"
   ]
  },
  {
   "cell_type": "code",
   "execution_count": 17,
   "id": "8f1c62f7",
   "metadata": {},
   "outputs": [
    {
     "name": "stdout",
     "output_type": "stream",
     "text": [
      "수학 : 0\n",
      "s영어 : 50\n",
      "s과학 : 80\n",
      "s코딩 : 100s"
     ]
    }
   ],
   "source": [
    "# 파일 입출력\n",
    "\n",
    "score_file = open(\"score.txt\", \"w\", encoding = \"utf8\")  # w=쓰기목적, utf8 = 한글정보임\n",
    "print(\"수학 : 0\", file=score_file)\n",
    "print(\"영어 : 50\", file=score_file)\n",
    "score_file.close()\n",
    "\n",
    "score_file = open(\"score.txt\", \"a\", encoding=\"utf8\")\n",
    "score_file.write(\"과학 : 80\")\n",
    "score_file.write(\"\\n코딩 : 100\")\n",
    "score_file.close()\n",
    "\n",
    "# score_file = open(\"score.txt\", \"r\", encoding = \"utf8\")\n",
    "# print(score_file.read())\n",
    "# score_file.close()\n",
    "\n",
    "# score_file = open(\"score.txt\", \"r\", encoding = \"utf8\")\n",
    "# print(score_file.readline())\n",
    "# print(score_file.readline())\n",
    "# print(score_file.readline())\n",
    "# print(score_file.readline())  # 줄별로 읽기, 한줄읽고 커서는 다음줄로 이동\n",
    "\n",
    "# score_file = open(\"score.txt\", \"r\", encoding = \"utf8\")\n",
    "# while True:\n",
    "#     line = score_file.readline()\n",
    "#     if not line:  # 읽어온내용이없다면=값ㅇ리 없다면\n",
    "#         break     # 반복문 탈출\n",
    "#     print(line, end=\"\")   # end=\"\"은 별도의 줄바꿈없이 출력\n",
    "# score_file.close()\n",
    "\n",
    "\n",
    "score_file = open(\"score.txt\", \"r\", encoding = \"utf8\")\n",
    "lines = score_file.readlines() #  list형태로 저장\n",
    "for line in lines:\n",
    "    print(line, end='s')\n",
    "    \n",
    "score_file.close()\n",
    "\n",
    "\n"
   ]
  },
  {
   "cell_type": "code",
   "execution_count": 9,
   "id": "bc709d2a",
   "metadata": {},
   "outputs": [
    {
     "name": "stdout",
     "output_type": "stream",
     "text": [
      "{'이름': '박명수', '나이': 30, '취미': ['축구', '골프', '코딩']}\n",
      "{'이름': '박명수', '나이': 30, '취미': ['축구', '골프', '코딩']}\n",
      "{'이름': '박명수', '나이': 30, '취미': ['축구', '골프', '코딩']}\n",
      "파이썬을 열심히 공부하고있어요\n"
     ]
    }
   ],
   "source": [
    "import pickle\n",
    "profile_file = open(\"profile.pickle\", \"wb\") # write binary, 피클에서는 인코딩utf8 따로 해줄필요 없음\n",
    "profile = {\"이름\": \"박명수\", \"나이\":30, \"취미\":[\"축구\", \"골프\", \"코딩\"]}\n",
    "print(profile)\n",
    "pickle.dump(profile, profile_file)  # profile에 있는 정보를 file에 저장하는것\n",
    "profile_file.close()\n",
    "\n",
    "#파일에서 데이터가져오는 예제\n",
    "profile_file = open(\"profile.pickle\", \"rb\")\n",
    "profile = pickle.load(profile_file) # 파일에있는정보를 load를 통해서 프로필에 불러오기\n",
    "print(profile)\n",
    "profile_file.close()\n",
    "\n",
    "\n",
    "\n",
    "\n",
    "# with  : 매번 close 해줄필요 없음\n",
    "\n",
    "import pickle\n",
    "\n",
    "with open(\"profile.pickle\", \"rb\") as profile_file: \n",
    "    # profile.pickle이라는 파일을 열어서 profile_file이라는 변수에 저장해둠\n",
    "    print(pickle.load(profile_file))\n",
    "    ## 따로 close 안써도 됨\n",
    "    \n",
    "# with open(\"study.txt\", \"w\", encoding = \"utf8\") as study_file:\n",
    "#     study_file.write(\"파이썬을 열심히 공부하고있어요\")\n",
    "\n",
    "with open(\"study.txt\", \"r\", encoding = \"utf8\") as study_file:\n",
    "    print(study_file.read())\n"
   ]
  },
  {
   "cell_type": "code",
   "execution_count": 9,
   "id": "e0af5a09",
   "metadata": {},
   "outputs": [],
   "source": [
    "# Quiz) 당신의 회사에서는 매주 1회 작성해야하는 보고서가 있습니다. \n",
    "# 보고서는 항상 아래와같은 형태로 출력돼야합니다.\n",
    "\n",
    "# - X 주차 주간보고 -\n",
    "# 부서 : \n",
    "# 이름 : \n",
    "# 업무 요약 : \n",
    "\n",
    "# 1주차부터 50주차까지의 보고서파일을 만드는 프로그램을 작성하시오.\n",
    "\n",
    "# 조건 : 파일명은 '1주차.txt', '2주차.txt', ... 와 같이 만듭니다.  33:33:33\n",
    "\n",
    "for i in range(1, 51):\n",
    "    with open(str(i) + \"주차.txt\", \"w\", encoding =\"utf8\") as report_file:\n",
    "        report_file.write(\"- {0} 주차 주간보고 -\".format(i))\n",
    "        report_file.write(\"\\n부서 :\")\n",
    "        report_file.write(\"\\n이름 :\")\n",
    "        report_file.write(\"\\n업무 요약 :\")\n",
    "\n",
    "        "
   ]
  },
  {
   "cell_type": "code",
   "execution_count": null,
   "id": "ba1289c0",
   "metadata": {},
   "outputs": [],
   "source": [
    "# 클래스 3.38"
   ]
  }
 ],
 "metadata": {
  "kernelspec": {
   "display_name": "Python 3 (ipykernel)",
   "language": "python",
   "name": "python3"
  },
  "language_info": {
   "codemirror_mode": {
    "name": "ipython",
    "version": 3
   },
   "file_extension": ".py",
   "mimetype": "text/x-python",
   "name": "python",
   "nbconvert_exporter": "python",
   "pygments_lexer": "ipython3",
   "version": "3.10.7"
  }
 },
 "nbformat": 4,
 "nbformat_minor": 5
}
