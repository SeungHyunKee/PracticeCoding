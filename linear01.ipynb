{
  "nbformat": 4,
  "nbformat_minor": 0,
  "metadata": {
    "colab": {
      "provenance": [],
      "authorship_tag": "ABX9TyPiHsF70iFR6TMXrSEzBY5E",
      "include_colab_link": true
    },
    "kernelspec": {
      "name": "python3",
      "display_name": "Python 3"
    },
    "language_info": {
      "name": "python"
    }
  },
  "cells": [
    {
      "cell_type": "markdown",
      "metadata": {
        "id": "view-in-github",
        "colab_type": "text"
      },
      "source": [
        "<a href=\"https://colab.research.google.com/github/SeungHyunKee/PracticeCoding/blob/main/linear01.ipynb\" target=\"_parent\"><img src=\"https://colab.research.google.com/assets/colab-badge.svg\" alt=\"Open In Colab\"/></a>"
      ]
    },
    {
      "cell_type": "code",
      "execution_count": null,
      "metadata": {
        "id": "OMKURZoczqig",
        "colab": {
          "base_uri": "https://localhost:8080/"
        },
        "outputId": "9fd1e074-281a-4fb2-b965-a70b989a6fb4"
      },
      "outputs": [
        {
          "output_type": "stream",
          "name": "stdout",
          "text": [
            "[[ 300  360  450]\n",
            " [ 660  810 1020]\n",
            " [1020 1260 1590]]\n",
            "[[ 1.00000000e-01 -5.55111512e-17  0.00000000e+00]\n",
            " [-1.66533454e-16  1.00000000e-01  0.00000000e+00]\n",
            " [-1.00000000e-01  2.00000000e-01  0.00000000e+00]]\n",
            "0.0\n",
            "-2999.9999999999977\n"
          ]
        }
      ],
      "source": [
        "import numpy as np\n",
        "import numpy.linalg as nla\n",
        "\n",
        "A = np.array([[1,2,3], [4,5,6], [7,8,9]])\n",
        "B = np.array([[10,20,30], [40,50,60], [70,80,100]])\n",
        "\n",
        "# print(A)\n",
        "# print(B)\n",
        "\n",
        "# print(A+B)\n",
        "# print(A-B)\n",
        "print(np.matmul(A,B))  # 같은자리의 곱이 아닌, 행렬곱하기를 한 결과!\n",
        "print(np.matmul(A, nla.inv(B)))  # A 와 B의 inverse의 곱\n",
        "\n",
        "# 행렬식 구하기 det\n",
        "print(nla.det(A)) # 0 => A 는 singular 하다는것 즉, 역행렬이 없다는것\n",
        "print(nla.det(B))\n"
      ]
    },
    {
      "cell_type": "code",
      "source": [
        "import sympy as sp\n",
        "\n",
        "# sp : 행렬로 쓰라고 만들어놓은 클래스\n",
        "# Matrix() 안에 넣으면 행렬로 생각을 한다\n",
        "sp_A = sp.Matrix([[1,2,3], [4,5,6], [7,8,9]])\n",
        "sp_B = sp.Matrix([[10,20,30], [40,50,60], [70,80,100]])\n",
        "\n",
        "# display() = 웹에 적합한 방법으로 출력하라는것(문자열 형식이아닌, html형식)\n",
        "display(sp_A + sp_B)\n",
        "display(sp_A - sp_B)\n",
        "display(sp_A * sp_B)\n",
        "display(sp_A * sp_B.inv())\n",
        "display(sp_A.det())\n",
        "display(sp_B.det())\n"
      ],
      "metadata": {
        "colab": {
          "base_uri": "https://localhost:8080/",
          "height": 302
        },
        "id": "Nfr3KnT0MZry",
        "outputId": "f04c2269-8af0-41e1-dfea-86a70cfa01b3"
      },
      "execution_count": null,
      "outputs": [
        {
          "output_type": "display_data",
          "data": {
            "text/plain": [
              "Matrix([\n",
              "[11, 22,  33],\n",
              "[44, 55,  66],\n",
              "[77, 88, 109]])"
            ],
            "text/latex": "$\\displaystyle \\left[\\begin{matrix}11 & 22 & 33\\\\44 & 55 & 66\\\\77 & 88 & 109\\end{matrix}\\right]$"
          },
          "metadata": {}
        },
        {
          "output_type": "display_data",
          "data": {
            "text/plain": [
              "Matrix([\n",
              "[ -9, -18, -27],\n",
              "[-36, -45, -54],\n",
              "[-63, -72, -91]])"
            ],
            "text/latex": "$\\displaystyle \\left[\\begin{matrix}-9 & -18 & -27\\\\-36 & -45 & -54\\\\-63 & -72 & -91\\end{matrix}\\right]$"
          },
          "metadata": {}
        },
        {
          "output_type": "display_data",
          "data": {
            "text/plain": [
              "Matrix([\n",
              "[ 300,  360,  450],\n",
              "[ 660,  810, 1020],\n",
              "[1020, 1260, 1590]])"
            ],
            "text/latex": "$\\displaystyle \\left[\\begin{matrix}300 & 360 & 450\\\\660 & 810 & 1020\\\\1020 & 1260 & 1590\\end{matrix}\\right]$"
          },
          "metadata": {}
        },
        {
          "output_type": "display_data",
          "data": {
            "text/plain": [
              "Matrix([\n",
              "[ 1/10,    0, 0],\n",
              "[    0, 1/10, 0],\n",
              "[-1/10,  1/5, 0]])"
            ],
            "text/latex": "$\\displaystyle \\left[\\begin{matrix}\\frac{1}{10} & 0 & 0\\\\0 & \\frac{1}{10} & 0\\\\- \\frac{1}{10} & \\frac{1}{5} & 0\\end{matrix}\\right]$"
          },
          "metadata": {}
        },
        {
          "output_type": "display_data",
          "data": {
            "text/plain": [
              "0"
            ],
            "text/latex": "$\\displaystyle 0$"
          },
          "metadata": {}
        },
        {
          "output_type": "display_data",
          "data": {
            "text/plain": [
              "-3000"
            ],
            "text/latex": "$\\displaystyle -3000$"
          },
          "metadata": {}
        }
      ]
    },
    {
      "cell_type": "code",
      "source": [
        "A = sp.Matrix([ [1,-2], [1,-1], [1,0], [1,2]])\n",
        "b = sp.Matrix([4,3,1,0])\n",
        "# display(A)\n",
        "# display(b)\n",
        "\n",
        "# A 의 sudo inverse 구하기 = A.pinv()\n",
        "display(A.pinv())\n",
        "# A의 transpose = A.T\n",
        "display((A.T * A).inv()*A.T) # => A.pinv()\n",
        "\n",
        "x = A.pinv() * b\n",
        "display(x) # 61/35, -36/35\n",
        "\n",
        "# 주어진 문제에서 가장 근접한 직선구하기\n",
        "# (-36/35)t + (61/35) = b\n",
        "\n",
        "# b를 projection한 point값 구하는 방법 : p = Pb = Ax\n",
        "display(A*x)\n",
        "# -> 원래 b의 projection은 [4,3,1,0]이었는데, 이를 행렬 A에대해 column splace로 projection한 값"
      ],
      "metadata": {
        "colab": {
          "base_uri": "https://localhost:8080/",
          "height": 221
        },
        "id": "x_A9Yw7eRh-5",
        "outputId": "e207183f-3de7-4cf3-864f-ebdc6b6baa73"
      },
      "execution_count": null,
      "outputs": [
        {
          "output_type": "display_data",
          "data": {
            "text/plain": [
              "Matrix([\n",
              "[ 1/5,  8/35, 9/35, 11/35],\n",
              "[-1/5, -3/35, 1/35,  9/35]])"
            ],
            "text/latex": "$\\displaystyle \\left[\\begin{matrix}\\frac{1}{5} & \\frac{8}{35} & \\frac{9}{35} & \\frac{11}{35}\\\\- \\frac{1}{5} & - \\frac{3}{35} & \\frac{1}{35} & \\frac{9}{35}\\end{matrix}\\right]$"
          },
          "metadata": {}
        },
        {
          "output_type": "display_data",
          "data": {
            "text/plain": [
              "Matrix([\n",
              "[ 1/5,  8/35, 9/35, 11/35],\n",
              "[-1/5, -3/35, 1/35,  9/35]])"
            ],
            "text/latex": "$\\displaystyle \\left[\\begin{matrix}\\frac{1}{5} & \\frac{8}{35} & \\frac{9}{35} & \\frac{11}{35}\\\\- \\frac{1}{5} & - \\frac{3}{35} & \\frac{1}{35} & \\frac{9}{35}\\end{matrix}\\right]$"
          },
          "metadata": {}
        },
        {
          "output_type": "display_data",
          "data": {
            "text/plain": [
              "Matrix([\n",
              "[ 61/35],\n",
              "[-36/35]])"
            ],
            "text/latex": "$\\displaystyle \\left[\\begin{matrix}\\frac{61}{35}\\\\- \\frac{36}{35}\\end{matrix}\\right]$"
          },
          "metadata": {}
        },
        {
          "output_type": "display_data",
          "data": {
            "text/plain": [
              "Matrix([\n",
              "[  19/5],\n",
              "[ 97/35],\n",
              "[ 61/35],\n",
              "[-11/35]])"
            ],
            "text/latex": "$\\displaystyle \\left[\\begin{matrix}\\frac{19}{5}\\\\\\frac{97}{35}\\\\\\frac{61}{35}\\\\- \\frac{11}{35}\\end{matrix}\\right]$"
          },
          "metadata": {}
        }
      ]
    },
    {
      "cell_type": "code",
      "source": [],
      "metadata": {
        "id": "y8XIQBtWPOgq"
      },
      "execution_count": null,
      "outputs": []
    },
    {
      "cell_type": "code",
      "source": [],
      "metadata": {
        "id": "2UKRV9d5PFyy"
      },
      "execution_count": null,
      "outputs": []
    }
  ]
}