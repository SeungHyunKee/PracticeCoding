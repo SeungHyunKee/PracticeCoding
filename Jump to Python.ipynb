{
 "cells": [
  {
   "cell_type": "code",
   "execution_count": 11,
   "id": "7fff18f0",
   "metadata": {},
   "outputs": [
    {
     "name": "stdout",
     "output_type": "stream",
     "text": [
      "p\n",
      "yp\n",
      "nohty\n"
     ]
    }
   ],
   "source": [
    "a = \"python\"\n",
    "print(a[:1])\n",
    "print(a[1::-1])\n",
    "print(a[-1:0:-1])"
   ]
  },
  {
   "cell_type": "code",
   "execution_count": null,
   "id": "f6f200d4",
   "metadata": {},
   "outputs": [],
   "source": []
  },
  {
   "cell_type": "code",
   "execution_count": 13,
   "id": "9dac1efc",
   "metadata": {},
   "outputs": [
    {
     "name": "stdout",
     "output_type": "stream",
     "text": [
      "python\n"
     ]
    }
   ],
   "source": [
    "# pithon 을 python 으로 바꾸기\n",
    "\n",
    "a = \"pithon\"\n",
    "\n",
    "# print(a[0])\n",
    "\n",
    "# print(a[2:])\n",
    "\n",
    "print(a[0] + \"y\" + a[2:])"
   ]
  },
  {
   "cell_type": "markdown",
   "id": "6b7bd231",
   "metadata": {},
   "source": [
    "# 문자열 포매팅 : 문자열안의 특정한 값을 바꿔야 할 경우가 있을때(=문자열안에 어떤값을 삽입하는 방법)"
   ]
  },
  {
   "cell_type": "code",
   "execution_count": 21,
   "id": "e5633420",
   "metadata": {},
   "outputs": [
    {
     "name": "stdout",
     "output_type": "stream",
     "text": [
      "I eat 3 apples.\n",
      "I eat five apples.\n",
      "I eat 3 apples.\n",
      "I ate 10 apples, so I was sick for three days\n",
      "I ate 3 apples.\n",
      "I ate five apples.\n",
      "I ate 10 apples.\n"
     ]
    }
   ],
   "source": [
    "# 1. 숫자바로대입 \n",
    "sentence = \"I eat %d apples.\" %3\n",
    "print(sentence)\n",
    "#2. 문자열 바로대입 : I eat five apples에서 five을 문자열로 넣기\n",
    "sentence1 = \"I eat %s apples.\" % \"five\"\n",
    "print(sentence1)\n",
    "#3. 숫자값을 나타내는 변수로 대입\n",
    "number = 3\n",
    "sentence3 = \"I eat %d apples.\" % number\n",
    "print(sentence3)\n",
    "#4. 2개이상의 값 넣기\n",
    "number = 10\n",
    "day = \"three\"\n",
    "print(\"I ate %d apples, so I was sick for %s days\" %(number, day))\n",
    "\n",
    "#5. format함수를 사용한 포매팅\n",
    "#- 숫자바로 대입하기\n",
    "print(\"I ate {0} apples.\".format(3))\n",
    "#- 문자열바로 대입하기\n",
    "print(\"I ate {0} apples.\".format(\"five\"))\n",
    "#- 숫자값을가진 변수로 대입하기\n",
    "number = 10\n",
    "print(\"I ate {0} apples.\".format(number))"
   ]
  },
  {
   "cell_type": "markdown",
   "id": "3d7e4c64",
   "metadata": {},
   "source": [
    "# 문자열 관련 함수 : 문자열변수이름뒤에 '.' 붙인다음 함수이름 써주면됨"
   ]
  },
  {
   "cell_type": "code",
   "execution_count": 26,
   "id": "ab94d515",
   "metadata": {},
   "outputs": [
    {
     "name": "stdout",
     "output_type": "stream",
     "text": [
      "['life', 'is', 'too', 'short']\n"
     ]
    }
   ],
   "source": [
    "# - 문자개수세기 : count\n",
    "a = \"hobby\"\n",
    "a.count('b') # 문자열중 문자 b의개수 돌려줌\n",
    "\n",
    "# - 위치알려주기1 find\n",
    "a = \"python is the best choice\"\n",
    "a.find('b')\n",
    "\n",
    "# - 위치알려주기2 index # find함수와 다른점은 index는 문자열안에 존재하지않다면 오류발생함\n",
    "a = \"python is the best choice\"\n",
    "a.index('b')\n",
    "\n",
    "# - 문자열삽입 join\n",
    "\",\".join(['a','b','c'])\n",
    "\n",
    "# 문자열 나누기 split\n",
    "ab = \"life is too short\"\n",
    "print(ab.split())  # 공백을 기준으로 문자열 나눔"
   ]
  },
  {
   "cell_type": "markdown",
   "id": "aef35a24",
   "metadata": {},
   "source": [
    "# 리스트 자료형"
   ]
  },
  {
   "cell_type": "code",
   "execution_count": 4,
   "id": "5b3f4811",
   "metadata": {},
   "outputs": [
    {
     "name": "stdout",
     "output_type": "stream",
     "text": [
      "a\n",
      "5\n"
     ]
    }
   ],
   "source": [
    "odd = [1,3,5,7,9]\n",
    "# 리스트명 = [요소1, 요소2, 요소3]  #  리스트안에는 어떠한 자료형을 모두 포함할수있다\n",
    "a = [1,2,3,['a','b','c']]\n",
    "#여기서 ['a','b','c']의 a값을 인덱싱을 사용해 끄집어내는방법은?\n",
    "print(a[-1][0])\n",
    "# 리스트 길이구하기\n",
    "b = [1,2,4,5,6]\n",
    "print(len(b))"
   ]
  },
  {
   "cell_type": "code",
   "execution_count": 65,
   "id": "09aa9bbf",
   "metadata": {},
   "outputs": [
    {
     "name": "stdout",
     "output_type": "stream",
     "text": [
      "[1, 66]\n",
      "[1, 2, 3, 0, 6]\n",
      "[0, 1, 2, 3, 6]\n",
      "[6, 3, 2, 1, 0]\n",
      "2\n",
      "[4, 6, 3, 2, 1, 0]\n",
      "[4, 6, 2, 1, 0]\n",
      "[4, 6, 2, 1]\n",
      "1\n",
      "[4, 6, 2, 1, 6, 7]\n"
     ]
    }
   ],
   "source": [
    "# 리스트의 수정과 삭제\n",
    "a = [1,2,3]\n",
    "a[2] = 66\n",
    "del a[1]\n",
    "print(a)\n",
    "\n",
    "# 리스트 관련함수 : 리스트 변수이름 뒤에 '.' 붙여서\n",
    "# 여러가지 리스트관련함수 사용할수잇음 : append, sort, reverse, index, insert, remove, pop, count, extend\n",
    "b = [1,2,3,0]\n",
    "b.append(6)  # b의 맨마지막에 6 추가\n",
    "print(b)     \n",
    "b.sort()     # 정렬 : 순서대로 정렬\n",
    "print(b)     \n",
    "b.reverse()  # 뒤집기 : 현재의 리스트 그대로 거꾸로 뒤집는다\n",
    "print(b)     \n",
    "print(b.index(2))   # 위치반환 : ()안에있는 값의 위치값을 돌려줌  --> ??????돌려준다는게 뭐 야 ?????\n",
    "\n",
    "b.insert(0,4) # insert(a,b) = a번째위치에 b삽입\n",
    "print(b)\n",
    "b.remove(3)   # remove(x) 는 리스트에서 첫번째로나오는 x를 삭제하는함수\n",
    "print(b)\n",
    "b.pop()       # pop() 은 리스트 맨 마지막요소를 돌려주고 그 요소는 삭제함\n",
    "print(b)      # 만약 pop(x) 라면 리스트의 x번째 요소를 돌려주고 그 요소는 삭제함\n",
    "print(b.count(1))    # 리스트에 x가 몇개있는지 조사해서 돌려줌 ----> 여기도 돌려줌 ?????\n",
    "b.extend([6,7]) # 원래ㅔ의 리스트에 x 리스트만 더함. x에는 리스트만 올수있음\n",
    "print(b)\n"
   ]
  },
  {
   "cell_type": "markdown",
   "id": "e20930b2",
   "metadata": {},
   "source": [
    "# 튜플 자료형 "
   ]
  },
  {
   "cell_type": "code",
   "execution_count": null,
   "id": "4dfc7026",
   "metadata": {},
   "outputs": [],
   "source": [
    "- 몇가지를 제외하고는 리스트와 비슷함.\n",
    "- 리스트와 다른점 : 리스트는[] , 튜플은()\n",
    "- 리스트는 값의 생성 삭제 수정 가능 / 튜플은 값 바꿀수 없음\n",
    "- 1개의 요소만가질때 : t=(1,) 처럼 요소뒤에 ',' 반드시 붙여야됨\n",
    "- t= 1,2,3 처럼 () 생략해도 무방함"
   ]
  },
  {
   "cell_type": "markdown",
   "id": "1da2342c",
   "metadata": {},
   "source": [
    "# 딕셔너리 자료형"
   ]
  },
  {
   "cell_type": "code",
   "execution_count": 33,
   "id": "5f37a721",
   "metadata": {},
   "outputs": [
    {
     "name": "stdout",
     "output_type": "stream",
     "text": [
      "dict_keys(['a', 'b', 'c'])\n",
      "['a', 'b', 'c']\n",
      "dict_values([1, 2, 3])\n",
      "dict_items([('a', 1), ('b', 2), ('c', 3)])\n",
      "1\n",
      "True\n",
      "None\n",
      "False\n"
     ]
    }
   ],
   "source": [
    "# # - 딕셔너리는 리스트나 튜플처럼) 순차적으로 요솟값 구하지 않고, key를 통해 value값을 얻는다\n",
    "# # - 형태 : {key1:value1, key2:value2} -> key에는 변하지않는값, value는 변하는값과 변하지않는값 모두사용가능\n",
    "# # 딕셔너리 쌍 추가,삭제 하기\n",
    "# a = {1:'a'}\n",
    "# a[2] = 'b'\n",
    "# print(a)\n",
    "# a['name'] = 'pey'    # {'name':'pey'} 쌍 추가\n",
    "# print(a)\n",
    "# del a[1] # 키가 1인 쌍 삭제\n",
    "# print(a)   # {2: 'b', 'name': 'pey'}\n",
    "\n",
    "# # 딕셔너리 만들때 주의사항\n",
    "# - key는 고유값이므로, 중복되는 key값 설정하면 안됨\n",
    "# - key 자리에 리스트는 올 수 없음\n",
    "\n",
    "# a.keys()  :  key 리스트 만들기\n",
    "a = {'a': 1, 'b': 2, 'c':3}\n",
    "print(a.keys())   # key 만 얻고싶을때 : dict_keys(['a', 'b', 'c']) , 이걸 다시 리스트로 변환하려면\n",
    "print(list(a.keys()))\n",
    "print(a.values()) # value 만 얻고싶을 때 : dict_values 객체 돌려줌\n",
    "print(a.items())  # key, value 쌍 얻기\n",
    "print(a.get('a')) # key로 value 얻기\n",
    "print('a' in a)   # 해당 key가 딕셔너리안에있는지 조사하기 : in\n",
    "print(a.clear())  # 쌍 모두 지우기\n"
   ]
  },
  {
   "cell_type": "markdown",
   "id": "dadaab25",
   "metadata": {},
   "source": [
    "# 집합(set) 자료형"
   ]
  },
  {
   "cell_type": "code",
   "execution_count": 39,
   "id": "8681c095",
   "metadata": {},
   "outputs": [
    {
     "name": "stdout",
     "output_type": "stream",
     "text": [
      "{1, 2, 3}\n",
      "{'l', 'e', 'H', 'o'}\n",
      "{4, 5, 6}\n",
      "{4, 5, 6}\n",
      "{1, 2, 3, 4, 5, 6, 7, 8, 9}\n",
      "{1, 2, 3, 4, 5, 6, 7, 8, 9}\n"
     ]
    }
   ],
   "source": [
    "s1 = set([1,2,3])  # 괄호안에 리스트넣을수있음\n",
    "print(s1)\n",
    "s2 = set(\"Hello\")  # 괄호안에 문자열 입력할수있음\n",
    "print(s2)          # {'l', 'e', 'H', 'o'} -> set는 중복 허용하지 않고, 순서가 없다.\n",
    "#-> 그래서 set 자료형과 딕셔너리같은 순서가없는것들은 : 리스트나 튜플로 변환해야한다\n",
    "\n",
    "# 교집합, 합집합, 차집합 구하기\n",
    "s3 = set([1,2,3,4,5,6])\n",
    "s4 = set([4,5,6,7,8,9])\n",
    "print(s3 & s4)             # 교집합\n",
    "print(s3.intersection(s4)) # 교집합\n",
    "print(s3|s4)               # 합집합\n",
    "print(s3.union(s4))        # 합집합\n",
    "print(s3-s4)               # 차집합\n",
    "print(s3.difference(s4)    # 차집합\n"
   ]
  },
  {
   "cell_type": "code",
   "execution_count": 42,
   "id": "f6c4d0ad",
   "metadata": {},
   "outputs": [
    {
     "name": "stdout",
     "output_type": "stream",
     "text": [
      "{1, 2, 3, 4}\n",
      "{1, 2, 3, 4, 5, 6, 7}\n",
      "{1, 2, 3, 4, 5, 6}\n"
     ]
    }
   ],
   "source": [
    "# 집합자료형 관련함수\n",
    "\n",
    "# 값 1개 추가하기\n",
    "s1 = set([1,2,3])\n",
    "s1.add(4)\n",
    "print(s1)\n",
    "# 값 여러개 추가하기 update\n",
    "s1.update([5,6,7])\n",
    "print(s1)\n",
    "# 특정값 제거하기\n",
    "s1.remove(7)\n",
    "print(s1)"
   ]
  },
  {
   "cell_type": "markdown",
   "id": "60dc031f",
   "metadata": {},
   "source": [
    "# 불 자료형 : 참 True/ 거짓 False 나타냄, 이 두 값만 가질수 있음"
   ]
  },
  {
   "cell_type": "code",
   "execution_count": 46,
   "id": "0e4ac41c",
   "metadata": {},
   "outputs": [
    {
     "name": "stdout",
     "output_type": "stream",
     "text": [
      "<class 'bool'>\n",
      "True\n",
      "False\n"
     ]
    }
   ],
   "source": [
    "a = True\n",
    "b = False # a,b 두 변수의 자료형이 bool 로 지정됨\n",
    "print(type(a))  # : <class 'bool'>\n",
    "# 문자열, 리스트[], 튜플(), 딕셔너리{} = 값이 비어있으면 '거짓'\n",
    "# 숫자 = 값이 0일때 '거짓'\n",
    "print(bool('python'))\n",
    "print(bool(''))"
   ]
  },
  {
   "cell_type": "markdown",
   "id": "65670a61",
   "metadata": {},
   "source": [
    "# 변수를 만드는 여러가지 방법"
   ]
  },
  {
   "cell_type": "code",
   "execution_count": 47,
   "id": "fcd6a01c",
   "metadata": {},
   "outputs": [
    {
     "name": "stdout",
     "output_type": "stream",
     "text": [
      "5\n"
     ]
    }
   ],
   "source": [
    "a, b = ('python', 'life')\n",
    "(a,b) = 'python', 'life'\n",
    "[a,b] = ['python', 'life']\n",
    "\n",
    "# 두 변수의 값을 간단히 바꾸는 방법\n",
    "a=3\n",
    "b=5\n",
    "a,b = b,a\n",
    "print(a)"
   ]
  },
  {
   "cell_type": "markdown",
   "id": "9ef3d1ee",
   "metadata": {},
   "source": [
    "# if문"
   ]
  },
  {
   "cell_type": "code",
   "execution_count": 49,
   "id": "4b7ee587",
   "metadata": {},
   "outputs": [
    {
     "name": "stdout",
     "output_type": "stream",
     "text": [
      "걸어가\n"
     ]
    }
   ],
   "source": [
    "# if 조건문: 바로 아래 문장부터 if문에 속하는 모든 문장에 들여쓰기 해줘야한다. '수행할문장' 들여쓰기 꼭 해주기\n",
    "# if 조건문 뒤에는 반드시 '콜론 : ' 이 붙는다. 까먹지말자. 클론과 들여쓰기 꼭 해주기\n",
    "\n",
    "# 만약 3000원 이상 돈 있음 택시타고 아님 걸어가라.\n",
    "money = 2000\n",
    "if money >= 3000:\n",
    "    print(\"택시타고가\")\n",
    "else:\n",
    "    print(\"걸어가\")"
   ]
  },
  {
   "cell_type": "markdown",
   "id": "b157adb0",
   "metadata": {},
   "source": [
    "# and or not 연산자 : 조건판단함"
   ]
  },
  {
   "cell_type": "code",
   "execution_count": 50,
   "id": "da15eb20",
   "metadata": {},
   "outputs": [
    {
     "name": "stdout",
     "output_type": "stream",
     "text": [
      "택시타고가\n"
     ]
    }
   ],
   "source": [
    "# and or not 연산자 : 조건판단위함, and = 둘다 참이어야 참 / not x = x가 거짓이면 참\n",
    "\n",
    "# 만약 돈이 3000원이상 있거나 카드가 있으면 택시를 타고 아님 걸어가라.\n",
    "money = 3000\n",
    "card = True\n",
    "if money >= 3000 or card:\n",
    "    print(\"택시타고가\")\n",
    "else:\n",
    "    print(\"걸어가\")"
   ]
  },
  {
   "cell_type": "code",
   "execution_count": 54,
   "id": "4731e1f4",
   "metadata": {},
   "outputs": [
    {
     "name": "stdout",
     "output_type": "stream",
     "text": [
      "True\n",
      "True\n",
      "택시타고가\n"
     ]
    }
   ],
   "source": [
    "# x in s\n",
    "print(1 in [1,2,3]) # 1이 [1,2,3]안에 있는가? = True\n",
    "print('a' in ('a','b','c'))\n",
    "\n",
    "# 만약 주머니에 돈이있음 택시타고, 없으면 걸어가라\n",
    "pocket = ['card', 'money', 'candy']\n",
    "if 'money' in pocket:\n",
    "    print(\"택시타고가\")\n",
    "else:\n",
    "    print(\"걸어가\")\n",
    "    \n",
    "# 만약 주머니에 돈이있음 가만히있고 주머니에 돈이없으면 카드를꺼내라\n",
    "pocket = ['card', 'money', 'candy']\n",
    "if 'money' in pocket:\n",
    "    pass\n",
    "else:\n",
    "    print('카드를 꺼내라')\n",
    "    \n",
    "# 위 코드를 (만약 주머니에 돈이있음 가만히있고 주머니에 돈이없으면 카드를꺼내라) 더 간단하게 작성하는방법\n",
    "if 'money' in pocket: pass\n",
    "...else: print('카드를 꺼내라')"
   ]
  },
  {
   "cell_type": "markdown",
   "id": "c97208b0",
   "metadata": {},
   "source": [
    "# elif "
   ]
  },
  {
   "cell_type": "code",
   "execution_count": 68,
   "id": "d96e7f52",
   "metadata": {},
   "outputs": [
    {
     "name": "stdout",
     "output_type": "stream",
     "text": [
      "failure\n",
      "failure\n"
     ]
    }
   ],
   "source": [
    "# elif : 이전 조건문이 거짓일때 수행됨 \n",
    "# 조건부 표현식\n",
    "score = 50\n",
    "if score >= 60:\n",
    "    message = 'success'\n",
    "    print(message)\n",
    "else:\n",
    "    message = 'failure'\n",
    "    print(message)\n",
    "    \n",
    "#이걸 더 간단히 표현하면 : 조건부표현식 : 조건문이 참인경우 if조건문 else 조건문이 거짓인경우\n",
    "message = 'success' if score >= 60 else 'failure'\n",
    "print(message)"
   ]
  },
  {
   "cell_type": "markdown",
   "id": "7b9fe097",
   "metadata": {},
   "source": [
    "# while문 "
   ]
  },
  {
   "cell_type": "code",
   "execution_count": 69,
   "id": "f4c9a81e",
   "metadata": {},
   "outputs": [
    {
     "name": "stdout",
     "output_type": "stream",
     "text": [
      "나무를 1 번 찍었습니다.\n",
      "나무를 2 번 찍었습니다.\n",
      "나무를 3 번 찍었습니다.\n",
      "나무를 4 번 찍었습니다.\n",
      "나무를 5 번 찍었습니다.\n",
      "나무를 6 번 찍었습니다.\n",
      "나무를 7 번 찍었습니다.\n",
      "나무를 8 번 찍었습니다.\n",
      "나무를 9 번 찍었습니다.\n",
      "나무를 10 번 찍었습니다.\n",
      "나무 넘어갑니다.\n"
     ]
    }
   ],
   "source": [
    "# while문 : 반복해서 문장을 수행해야 할 경우 사용\n",
    "# 열번찍어 안넘어가는 나무 없다\n",
    "treeHit = 0     # 나무를 찍은 횟수\n",
    "while treeHit < 10: # 나무를 찍은횟수가 10보다 작은동안 반복\n",
    "    treeHit = treeHit + 1 # 나무 찍은 횟수 1 증가 (=> treeHit += 1)\n",
    "    print(\"나무를 %d 번 찍었습니다.\" % treeHit)\n",
    "    if treeHit == 10:  # 나무를 10번 찍으면\n",
    "        print(\"나무 넘어갑니다.\")"
   ]
  },
  {
   "cell_type": "code",
   "execution_count": 70,
   "id": "ed6f6e02",
   "metadata": {},
   "outputs": [
    {
     "name": "stdout",
     "output_type": "stream",
     "text": [
      "\n",
      "    1. Add\n",
      "    2. Del\n",
      "    3. List\n",
      "    4. Quit\n",
      "    \n",
      "    Enter number: \n",
      "2\n",
      "\n",
      "    1. Add\n",
      "    2. Del\n",
      "    3. List\n",
      "    4. Quit\n",
      "    \n",
      "    Enter number: \n",
      "4\n"
     ]
    }
   ],
   "source": [
    "# while문 만들기 예제\n",
    "prompt = \"\"\"\n",
    "    1. Add\n",
    "    2. Del\n",
    "    3. List\n",
    "    4. Quit\n",
    "\n",
    "    Enter number: \"\"\"\n",
    "\n",
    "number = 0    # 번호를 입력받을 변수\n",
    "while number != 4:  # 입력받은 번호가 4가 아닌동안 반복한다\n",
    "    print(prompt)\n",
    "    number = int(input())    # 이건 사용자의 숫자입력을 받아들이는것.\n"
   ]
  },
  {
   "cell_type": "code",
   "execution_count": 16,
   "id": "132eacd5",
   "metadata": {},
   "outputs": [
    {
     "ename": "SyntaxError",
     "evalue": "invalid syntax (2986068044.py, line 10)",
     "output_type": "error",
     "traceback": [
      "\u001b[0;36m  Cell \u001b[0;32mIn [16], line 10\u001b[0;36m\u001b[0m\n\u001b[0;31m    print('남은 커피는 %d 개입니다.'. % coffee)\u001b[0m\n\u001b[0m                             ^\u001b[0m\n\u001b[0;31mSyntaxError\u001b[0m\u001b[0;31m:\u001b[0m invalid syntax\n"
     ]
    }
   ],
   "source": [
    "# while문 강제로 빠져나가기\n",
    "# 자판기에 커피가 10가 있고, 자판기에 넣을돈은 300원이다.\n",
    "# 돈을 받게되면 '돈을 받았으니 커피를 줍니다' 출력, '남은커피는 %d' 개입니다.\n",
    "# 커피가 다 떨어지면 : 커피가 다 떨어졌습니다. 판매를 중지합니다. 출력\n",
    "coffee = 10\n",
    "money = 300\n",
    "while money:\n",
    "    print('돈을 받았으니 커피를 줍니다.')\n",
    "    coffee = coffee -1\n",
    "    print('남은 커피는 %d 개입니다.'. % coffee)\n",
    "    if coffee == 0\n",
    "        print('커피가 다 떨어졌습니다. 판매를 중지합니다.') # 들여쓰기 꼭 해주기\n",
    "        break   # break 호출되면 while문 빠져나가게됨"
   ]
  },
  {
   "cell_type": "code",
   "execution_count": null,
   "id": "31ef93d8",
   "metadata": {},
   "outputs": [
    {
     "name": "stdout",
     "output_type": "stream",
     "text": [
      "돈을 넣어 주세요:2000\n",
      "거스름돈 1700를 주고 커피를 줍니다.\n"
     ]
    }
   ],
   "source": [
    "# 실제 자판기 예시\n",
    "\n",
    "coffee = 10\n",
    "while True:    #???????????????????????????왜 true 를 while 옆에다가 쓰는건지 ??????????\n",
    "    money = int(input(\"돈을 넣어 주세요:\"))\n",
    "    if money == 300:\n",
    "        print(\"커피를 줍니다\")\n",
    "        coffee = coffee -1\n",
    "    elif money > 300:\n",
    "        print(\"거스름돈 %d를 주고 커피를 줍니다.\" %(money - 300))\n",
    "        coffee = coffee -1\n",
    "    else:\n",
    "        print(\"돈을 다시 돌려주고 커피를 주지 않습니다.\")\n",
    "        print(\"남은 커피의 양은 %d개입니다.\" % coffee)\n",
    "    if coffee == 0:\n",
    "        print(\"커피가 다 떨어졌습니다. 판매를 중지합니다.\")\n",
    "        break"
   ]
  },
  {
   "cell_type": "code",
   "execution_count": 3,
   "id": "b3f79a49",
   "metadata": {},
   "outputs": [
    {
     "name": "stdout",
     "output_type": "stream",
     "text": [
      "1\n",
      "3\n",
      "5\n",
      "7\n",
      "9\n"
     ]
    }
   ],
   "source": [
    "# while문의 맨 처음으로 돌아가기 : continue 사용\n",
    "# 1부터 10까지의 숫자중 홀수만 출력하기\n",
    "a = 0\n",
    "while a < 10:\n",
    "    a = a+1\n",
    "    if a%2 == 0: continue # a를 2로 나누었을때 나머지가 0이면 맨 처음으로 돌아간다\n",
    "    print(a)\n",
    "    \n",
    "    \n",
    "# 무한루프\n",
    "# while True:\n",
    "#     수행할문장 1\n",
    "#     수행할문장 2\n",
    "#     ..           # 빠져나가는 방법 :  ctrl + c\n",
    "# while문으로 구현할수있음. while문의 조건문이 True이므로 항상 참 이 됨. 따라서 while문안의 문장들은 무한히 수행함"
   ]
  },
  {
   "cell_type": "markdown",
   "id": "2d207041",
   "metadata": {},
   "source": [
    "# for 문 "
   ]
  },
  {
   "cell_type": "code",
   "execution_count": 3,
   "id": "c913b72a",
   "metadata": {},
   "outputs": [
    {
     "name": "stdout",
     "output_type": "stream",
     "text": [
      "one\n",
      "two\n",
      "three\n",
      "3\n",
      "7\n",
      "11\n"
     ]
    }
   ],
   "source": [
    "# for 문 \n",
    "# 형태 = for 변수 in 리스트(or 튜플 or문자열): 아래에 수행할문장들 씀\n",
    "\n",
    "# for 변수 in 리스트(or 튜플, 문자열):\n",
    "#     수행할문장 1\n",
    "#     수행할문장 2\n",
    "    \n",
    "# for문 예제 : for 변수 \n",
    "test_list = ['one', 'two', 'three']\n",
    "for i in test_list:    # one, two, three 를 순서대로 i 에 대입\n",
    "    print(i)\n",
    "   \n",
    "# 다양한 for문의 사용\n",
    "a= [(1,2), (3,4), (5,6)]\n",
    "for (first, last) in a:\n",
    "    print(first + last)\n",
    "    \n"
   ]
  },
  {
   "cell_type": "code",
   "execution_count": 5,
   "id": "60e00112",
   "metadata": {},
   "outputs": [
    {
     "name": "stdout",
     "output_type": "stream",
     "text": [
      "1 번 학생은 불합격입니다.\n",
      "2 번 학생은 불합격입니다.\n",
      "3 번 학생은 합격입니다.\n",
      "4 번 학생은 합격입니다.\n",
      "5 번 학생은 합격입니다.\n"
     ]
    }
   ],
   "source": [
    "# for문 응용\n",
    "# 총 5명의학생이 시험을 봤다. 시험점수가 60점 넘으면 합격, 아님 불합격. 합격인지 불합격인지 결과를 보여줘.\n",
    "\n",
    "marks = [44,55,66,77,88]\n",
    "number = 0  # 학생에게 붙여줄 번호\n",
    "for mark in marks:   #marks 안의 값을 순서대로 mark에 대입\n",
    "    number = number+1 \n",
    "    if mark >= 60:   # ':' 잊지말고 써주기\n",
    "        print(\"%d 번 학생은 합격입니다.\" %number)\n",
    "    else:    # ':' 잊지말고 써주기\n",
    "        print(\"%d 번 학생은 불합격입니다.\" % number)"
   ]
  },
  {
   "cell_type": "code",
   "execution_count": 6,
   "id": "179413f1",
   "metadata": {},
   "outputs": [
    {
     "name": "stdout",
     "output_type": "stream",
     "text": [
      "3번 학생 축하합니다.\n",
      "4번 학생 축하합니다.\n",
      "5번 학생 축하합니다.\n"
     ]
    }
   ],
   "source": [
    "# for 문과 continue 문 : for문 수행도중 continue문 만나면 for문의 처음으로 돌아가게 된다.\n",
    "# 예제 : # 총 5명의학생이 시험을 봤다. 시험점수가 60점 넘으면 축하메세지를 보내라\n",
    "\n",
    "marks = [44,55,66,77,88]\n",
    "number = 0  # 학생에게 붙여줄 번호\n",
    "for mark in marks:   #marks 안의 값을 순서대로 mark에 대입\n",
    "    number = number+1 \n",
    "    if mark < 60: continue\n",
    "    print(\"%d번 학생 축하합니다.\" %number)"
   ]
  },
  {
   "cell_type": "code",
   "execution_count": 11,
   "id": "49801322",
   "metadata": {},
   "outputs": [
    {
     "name": "stdout",
     "output_type": "stream",
     "text": [
      "55\n"
     ]
    }
   ],
   "source": [
    "# for 문과 함께 자주 쓰는 range 함수\n",
    "# range 함수 : 숫자list를 자동으로 만들어줌\n",
    "# a = range(10)\n",
    "# print(a)    #range(0, 10) : 0부터 10미만 숫자 포함하는 range객체를 만들어줌\n",
    "\n",
    "# 예제 : 1부터 10까지 더하기\n",
    "add = 0\n",
    "for i in range(1,11):\n",
    "    add = add + i\n",
    "print(add)\n"
   ]
  },
  {
   "cell_type": "code",
   "execution_count": null,
   "id": "fd3202f7",
   "metadata": {},
   "outputs": [],
   "source": [
    "# for , range 사용한 구구단\n",
    "for i in range(2,10):\n",
    "    for j in range(1,10):\n",
    "        print(i*j, end=\" \")  # end = 해당결괏값 출력할때 다음줄로 넘기지않고 그줄에 계속해서 출력하기 위함\n",
    "    print('')  # 2단, 3단을 구별위함 : 두번째 for문 끝나면 다음줄 넘기는 역할\n",
    "    \n",
    "# 이걸 리스트내포로 표현한다면\n",
    "result = [x*y for x in range(2,10)\n",
    "    for y in range(1,10)]\n",
    "print(result)"
   ]
  },
  {
   "cell_type": "code",
   "execution_count": 10,
   "id": "712a3384",
   "metadata": {},
   "outputs": [
    {
     "name": "stdout",
     "output_type": "stream",
     "text": [
      "[3, 6, 9, 12]\n",
      "[3, 6, 9, 12]\n"
     ]
    }
   ],
   "source": [
    "# 리스트 내포 = 리스트안에 for문 포함하는 것  :  일반문법 : [표현식 for 항목 in 반복 가능 객체 if 조건]\n",
    "# 예제 : a리스트의 각 항목에 3을 곱한 결과를 result리스트에 담는 예제\n",
    "a = [1,2,3,4]\n",
    "result = []\n",
    "for num in a:\n",
    "    result.append(num*3)\n",
    "print(result)\n",
    "\n",
    "# 이걸 리스트내포 사용하면 : \n",
    "a = [1,2,3,4]\n",
    "result = [num * 3 for num in a]\n",
    "print(result)\n"
   ]
  },
  {
   "cell_type": "markdown",
   "id": "e848c2a4",
   "metadata": {},
   "source": [
    "# 함수 "
   ]
  },
  {
   "cell_type": "code",
   "execution_count": 16,
   "id": "fac63739",
   "metadata": {},
   "outputs": [
    {
     "name": "stdout",
     "output_type": "stream",
     "text": [
      "11\n",
      "Hi\n",
      "3, 4의 합은 7 입니다.\n",
      "hi\n"
     ]
    }
   ],
   "source": [
    "# 함수 구조\n",
    "# def 함수이름(매개변수):\n",
    "#     수행할문장1\n",
    "#     수행할문장2\n",
    "\n",
    "def add(a,b):\n",
    "    return a+b  # return= 함수의 결괏값을 돌려주는 명령어\n",
    "a = 3\n",
    "b = 4\n",
    "c = add(5,6)\n",
    "print(c)\n",
    "\n",
    "# 입력값이 없는 함수 : 결괏값을 받을 변수 = 함수 이름()\n",
    "def say():\n",
    "    return 'Hi'\n",
    "a = say() # a에 Hi라는 문자열이 대입되는것\n",
    "print(a)\n",
    "\n",
    "# 결괏값이 없는 함수\n",
    "def add(a,b):\n",
    "    print(\"%d, %d의 합은 %d 입니다.\"% (a,b, a+b))\n",
    "add(3,4)\n",
    "# a = add(3,4)\n",
    "# print(a)  -> none 나옴. return값이 없기때문이다.\n",
    "\n",
    "# 입력값도 결괏값도 없는함수\n",
    "def say():\n",
    "    print(\"hi\")\n",
    "say()"
   ]
  },
  {
   "cell_type": "code",
   "execution_count": 18,
   "id": "6b72dda1",
   "metadata": {},
   "outputs": [
    {
     "name": "stdout",
     "output_type": "stream",
     "text": [
      "10\n"
     ]
    }
   ],
   "source": [
    "# 매개변수 지정하여 호출하기\n",
    "\n",
    "def add(a,b):\n",
    "    return a+b\n",
    "result = add(a=3, b=7)\n",
    "print(result)\n"
   ]
  },
  {
   "cell_type": "code",
   "execution_count": 21,
   "id": "df2b1b78",
   "metadata": {},
   "outputs": [
    {
     "name": "stdout",
     "output_type": "stream",
     "text": [
      "6\n"
     ]
    }
   ],
   "source": [
    "# 입력값이 몇개가될지 모를때 : def 함수이름(*매개변수):\n",
    "\n",
    "# 여러개의 입력값 모두 더하는 함수 만들기\n",
    "def add_many(*args):\n",
    "    result = 0\n",
    "    for i in args:\n",
    "        result = result + i  # args에 입력받은 모든값을 더한다\n",
    "    return result\n",
    "result = add_many(1,2,3)\n",
    "print(result)"
   ]
  },
  {
   "cell_type": "code",
   "execution_count": 22,
   "id": "557d06d6",
   "metadata": {},
   "outputs": [
    {
     "name": "stdout",
     "output_type": "stream",
     "text": [
      "{'a': 1}\n",
      "{'name': 'foo', 'age': 3}\n"
     ]
    }
   ],
   "source": [
    "# 키워드 파라미터 : 매개변수앞에 '**' 붙임   :   ?????????\n",
    "def print_kwargs(**kwargs):\n",
    "    print(kwargs)\n",
    "print_kwargs(a=1)\n",
    "{'a': 1}\n",
    "print_kwargs(name = 'foo', age = 3)"
   ]
  },
  {
   "cell_type": "code",
   "execution_count": 26,
   "id": "9199b8f7",
   "metadata": {},
   "outputs": [
    {
     "name": "stdout",
     "output_type": "stream",
     "text": [
      "(7, 12)\n",
      "7 12\n"
     ]
    }
   ],
   "source": [
    "# 함수의 결괏값은 언제나 하나이다.\n",
    "def add_and_mul(a,b):\n",
    "    return a+b, a*b\n",
    "result = add_and_mul(3,4)\n",
    "print(result)  # -> 결괏값은 튜플값(a+b, a*b) 하나로 돌려줌\n",
    "\n",
    "result1, result2 = add_and_mul(3,4) \n",
    "print(result1, result2)   #하나의 튜플값을 두개의 결괏값처럼 받고싶을때"
   ]
  },
  {
   "cell_type": "code",
   "execution_count": 34,
   "id": "cf8f5f66",
   "metadata": {},
   "outputs": [
    {
     "name": "stdout",
     "output_type": "stream",
     "text": [
      " 내 별명은 야호 입니다.\n"
     ]
    }
   ],
   "source": [
    "# return 의 쓰임새) 특별한 상황일때 함수를 빠져나가고 싶을때\n",
    "def say_nick(nick):\n",
    "    if nick == \"바보\":\n",
    "        return\n",
    "    print(\" 내 별명은 %s 입니다.\" %nick)\n",
    "say_nick(\"야호\")\n",
    "say_nick(\"바보\")\n"
   ]
  },
  {
   "cell_type": "code",
   "execution_count": 35,
   "id": "527dc4f8",
   "metadata": {},
   "outputs": [
    {
     "name": "stdout",
     "output_type": "stream",
     "text": [
      "나의 이름은 박응용입니다.\n",
      "나이는 27살입니다.\n",
      "남자입니다.\n",
      "나의 이름은 박응용입니다.\n",
      "나이는 27살입니다.\n",
      "남자입니다.\n"
     ]
    }
   ],
   "source": [
    "# 매개변수에 초깃값 미리 설정하기\n",
    "\n",
    "def say_myself(name, old, man=True):    # man+True 처럼 초기화시키고싶은 매개변수는 항상 젤 뒤쪽에 놓기\n",
    "    print(\"나의 이름은 %s입니다.\" %name)\n",
    "    print(\"나이는 %d살입니다.\" %old)\n",
    "    if man:\n",
    "        print(\"남자입니다.\")\n",
    "    else:\n",
    "        print(\"여자입니다.\")\n",
    "say_myself(\"박응용\", 27)\n",
    "say_myself(\"박응용\", 27, True)"
   ]
  },
  {
   "cell_type": "code",
   "execution_count": 1,
   "id": "52790885",
   "metadata": {},
   "outputs": [
    {
     "name": "stdout",
     "output_type": "stream",
     "text": [
      "1\n"
     ]
    },
    {
     "ename": "NameError",
     "evalue": "name 'a' is not defined",
     "output_type": "error",
     "traceback": [
      "\u001b[0;31m---------------------------------------------------------------------------\u001b[0m",
      "\u001b[0;31mNameError\u001b[0m                                 Traceback (most recent call last)",
      "Cell \u001b[0;32mIn [1], line 10\u001b[0m\n\u001b[1;32m      7\u001b[0m     \u001b[38;5;28mprint\u001b[39m(a)\n\u001b[1;32m      8\u001b[0m vartest(\u001b[38;5;241m1\u001b[39m)\n\u001b[0;32m---> 10\u001b[0m \u001b[38;5;28mprint\u001b[39m(\u001b[43ma\u001b[49m)\n",
      "\u001b[0;31mNameError\u001b[0m: name 'a' is not defined"
     ]
    }
   ],
   "source": [
    "# 함수안에서 선언한 변수의 효력 범위, 함수안에서 함수밖의 변수를 변경하는 방법\n",
    "# 1. return 사용하기\n",
    "\n",
    "def vartest(b):\n",
    "    a = 1\n",
    "    b = b+1\n",
    "    print(a)\n",
    "vartest(1)\n",
    "\n",
    "print(a)\n",
    "\n"
   ]
  },
  {
   "cell_type": "code",
   "execution_count": 3,
   "id": "a55a2cc2",
   "metadata": {},
   "outputs": [
    {
     "name": "stdout",
     "output_type": "stream",
     "text": [
      "2\n"
     ]
    }
   ],
   "source": [
    "#2. global 명령어 사용하기\n",
    "\n",
    "a = 1\n",
    "def vartest():\n",
    "    global a\n",
    "    a = a+1\n",
    "\n",
    "vartest()\n",
    "print(a)"
   ]
  },
  {
   "cell_type": "code",
   "execution_count": 1,
   "id": "2bd006bf",
   "metadata": {},
   "outputs": [
    {
     "name": "stdout",
     "output_type": "stream",
     "text": [
      "1\n"
     ]
    },
    {
     "ename": "NameError",
     "evalue": "name 'z' is not defined",
     "output_type": "error",
     "traceback": [
      "\u001b[0;31m---------------------------------------------------------------------------\u001b[0m",
      "\u001b[0;31mNameError\u001b[0m                                 Traceback (most recent call last)",
      "Cell \u001b[0;32mIn [1], line 7\u001b[0m\n\u001b[1;32m      4\u001b[0m     \u001b[38;5;28mprint\u001b[39m(z)\n\u001b[1;32m      5\u001b[0m vartest(\u001b[38;5;241m1\u001b[39m)\n\u001b[0;32m----> 7\u001b[0m \u001b[38;5;28mprint\u001b[39m(\u001b[43mz\u001b[49m)\n",
      "\u001b[0;31mNameError\u001b[0m: name 'z' is not defined"
     ]
    }
   ],
   "source": [
    "def vartest(b):\n",
    "    z = 1\n",
    "    b = b+1\n",
    "    print(z)\n",
    "vartest(1)\n",
    "\n",
    "print(z)\n"
   ]
  },
  {
   "cell_type": "code",
   "execution_count": 5,
   "id": "e9a82fab",
   "metadata": {},
   "outputs": [
    {
     "name": "stdout",
     "output_type": "stream",
     "text": [
      "숫자를 입력하세요: 3\n",
      "3\n"
     ]
    }
   ],
   "source": [
    "# 4-2 사용자 입력과 출력\n",
    "# 사용자입력 : 사용자가 입력한값을 어떤변수에 대입하고싶을때 : input 사용\n",
    "# 사용자에게 입력받을때 '숫자를입력하세요' 라는 문구 나오게 하기\n",
    "number = input(\"숫자를 입력하세요: \")\n",
    "print(number)"
   ]
  },
  {
   "cell_type": "code",
   "execution_count": 7,
   "id": "f585096a",
   "metadata": {},
   "outputs": [
    {
     "name": "stdout",
     "output_type": "stream",
     "text": [
      "Lifeistoo short\n",
      "life is too short\n",
      "0 1 2 3 4 5 6 7 8 9 "
     ]
    }
   ],
   "source": [
    "# 큰따옴표 \"\" 로 둘러싸인 문자열 = + 연산과 동일함\n",
    "print(\"Life\" \"is\" \"too short\")\n",
    "\n",
    "# 문자열 띄어쓰기는 콤마 ',' 로 한다\n",
    "print(\"life\", \"is\", \"too short\")\n",
    "\n",
    "# 한줄에 결괏값 출력하기 : 매개변수 end 사용해 끝문자 지정\n",
    "for i in range(10):\n",
    "    print(i, end=' ')\n",
    "    "
   ]
  },
  {
   "cell_type": "markdown",
   "id": "75570bbb",
   "metadata": {},
   "source": [
    "# 클래스"
   ]
  },
  {
   "cell_type": "code",
   "execution_count": 16,
   "id": "8e7f33ea",
   "metadata": {},
   "outputs": [
    {
     "name": "stdout",
     "output_type": "stream",
     "text": [
      "3\n",
      "7\n",
      "3\n",
      "10\n"
     ]
    }
   ],
   "source": [
    "# 클래스\n",
    "\n",
    "# result = 0\n",
    "\n",
    "# def add(num):\n",
    "#     global result    # <- 이전에 계산한 결괏값을 유지하기 위함\n",
    "#     result += num\n",
    "#     returen result\n",
    "    \n",
    "# print(add(3))\n",
    "# print(add(4))\n",
    "\n",
    "\n",
    "# 많은 계산기가 필요해지는 경우 : 클래스 사용하기\n",
    "class Calculator:\n",
    "    def __init__(self):\n",
    "        self.result = 0\n",
    "        \n",
    "    def add(self, num):\n",
    "        self.result += num\n",
    "        return self.result\n",
    "    \n",
    "    def sub(self, num):      # 빼기기능\n",
    "        self.result -= num\n",
    "        returen self.result\n",
    "    \n",
    "cal1 = Calculator()  # cal1 = 객체, 계산기1\n",
    "cal2 = Calculator()\n",
    "\n",
    "print(cal1.add(3))\n",
    "print(cal1.add(4))\n",
    "print(cal2.add(3))\n",
    "print(cal2.add(7))"
   ]
  },
  {
   "cell_type": "code",
   "execution_count": 22,
   "id": "d28e3f22",
   "metadata": {},
   "outputs": [
    {
     "name": "stdout",
     "output_type": "stream",
     "text": [
      "4\n",
      "2\n",
      "4\n",
      "3\n"
     ]
    }
   ],
   "source": [
    "# 클래스와 객체\n",
    "# 클래스 class = 쿠키틀 (똑가이 무엇인가를 계속해서 만들어낼수있는 설계도면)\n",
    "# 객체 object = 쿠키 (클래스로 만든 피조물), 동일한 클래스로 만든 객체들은 서로에게 영향주지 않음\n",
    "\n",
    "# # 사칙연산 클래스 만들기 개요\n",
    "# a = FourCal()     # a 라는 객체를 만든다\n",
    "# a.setdata(4,2)    # 숫자 4와2를 a에 지정한다\n",
    "# print(a.add())    # a.add()를 수행하면 4+2값을 돌려주고\n",
    "# print(a.mul())\n",
    "# print(a.sub())\n",
    "# print(a.div())\n",
    "\n",
    "# 메서드 method = 클래스안에 구현된 함수\n",
    "\n",
    "# 클래스 구조 만들기\n",
    "class FourCal:        # 현재상태의 FourCal은 아무변수나 함수도 포함하지않지만, 객체a를 만들수있는 기능가짐\n",
    "    def setdata(self, first, second): # method의 매개변수, # 연산을 수행할 대상(숫자2개) 를 객체에 지정할수있게 하는법?\n",
    "        self.first = first           \n",
    "        self.second = second         # 메서드의 수행문\n",
    "        \n",
    "a = FourCal()  \n",
    "a.setdata(4,2)  # setdata 메서드의 첫번째 매개변수 self에 객체 a가 전달됨. 4=first, 2=second 전달됨\n",
    "print(a.first)   # = 4, a에 객체변수 first가 생성된것\n",
    "print(a.second)   #  = 2, a에 객체변수 second가 생성된것\n",
    "\n",
    "a = FourCal()\n",
    "b = FourCal()\n",
    "a.setdata(4,2)\n",
    "print(a.first)  # 4\n",
    "b.setdata(3,7)\n",
    "print(b.first)  # 3\n"
   ]
  },
  {
   "cell_type": "code",
   "execution_count": 26,
   "id": "b2223352",
   "metadata": {},
   "outputs": [
    {
     "name": "stdout",
     "output_type": "stream",
     "text": [
      "6\n",
      "-5\n"
     ]
    }
   ],
   "source": [
    "class FourCal:        # 현재상태의 FourCal은 아무변수나 함수도 포함하지않지만, 객체a를 만들수있는 기능가짐\n",
    "    def setdata(self, first, second): # method의 매개변수, # 연산을 수행할 대상(숫자2개) 를 객체에 지정할수있게 하는법?\n",
    "        self.first = first           \n",
    "        self.second = second  \n",
    "        \n",
    "    def add(self):    # add메서드의 매개변수 = self, 반환값 = result\n",
    "        result = self.first + self.second\n",
    "        return result\n",
    "    def mul(self):    \n",
    "        result = self.first * self.second\n",
    "        return result\n",
    "    def sub(self):   \n",
    "        result = self.first - self.second\n",
    "        return result\n",
    "    def div(self):    \n",
    "        result = self.first / self.second\n",
    "        return result\n",
    "    \n",
    "a = FourCal()\n",
    "b = FourCal()\n",
    "a.setdata(4,2)  # a객체의 first, second 객체변수에 각각 4, 2가 저장됨\n",
    "b.setdata(3,8)\n",
    "print(a.add())  # 6, add()란 add 메서드 호출시키는것\n",
    "print(b.sub())\n"
   ]
  },
  {
   "cell_type": "markdown",
   "id": "434b48a7",
   "metadata": {},
   "source": [
    "# 생성자, constructor "
   ]
  },
  {
   "cell_type": "code",
   "execution_count": 40,
   "id": "913d6be4",
   "metadata": {},
   "outputs": [
    {
     "name": "stdout",
     "output_type": "stream",
     "text": [
      "4\n",
      "2\n",
      "6\n",
      "2.0\n",
      "6\n",
      "16\n",
      "0\n"
     ]
    }
   ],
   "source": [
    "# 생성자, constructor : 객체가 생성될때 자동으로 호출되는 메서드\n",
    "\n",
    "class FourCal:       \n",
    "    def __init__(self, first, second):  # 이 메서드는 setdata메서드와 이름빼고 모두 동일하다. 단, 이름을\n",
    "                                        # init으로 했기때문에 생성자로 인식되어 객체가 생성되는 시점에 자동으로 호출된다\n",
    "        self.first = first           \n",
    "        self.second = second  \n",
    "        \n",
    "    def setdata(self, first, second):\n",
    "        self.first = first\n",
    "        selt.second = second\n",
    "        \n",
    "    def add(self):   \n",
    "        result = self.first + self.second\n",
    "        return result\n",
    "    def mul(self):    \n",
    "        result = self.first * self.second\n",
    "        return result\n",
    "    def sub(self):   \n",
    "        result = self.first - self.second\n",
    "        return result\n",
    "    def div(self):    \n",
    "        result = self.first / self.second\n",
    "        return result\n",
    "    \n",
    "# a = FourCal()\n",
    "# a.add() #-> 에러남. setdata 메서드를 수행해야 객체 a의 객체변수 first, second가 생성되기 때ㅑ문\n",
    "\n",
    "# 그래서 파이썬 메서드 이름으로 __init__를 사용하면 이 메서드는 생성자가 된다\n",
    "\n",
    "a = FourCal(4,2)\n",
    "print(a.first)\n",
    "print(a.second)\n",
    "print(a.add())\n",
    "print(a.div())\n",
    "\n",
    "# 클래스의 상속\n",
    "\n",
    "# 클래스르르 상속하는 방법 : class 클래스이름(상속할 클래스 이름)\n",
    "\n",
    "# 우리가만든 FourCal 클래스에 a의 b제곱을 구할수있는 기능 추가하기\n",
    "## 여기서 우린 앞서 FourCal클래스는 이미 만들어놓았으므로, 이를 상속하는 MoreFourCal 클래스를 만들면된다\n",
    "### MoreFourCal 클래스는FourCal 클래스를 상속했으므로 FourCal 클래스의 모든기능을 사용할수있어야 한다.\n",
    "class MoreFourCal(FourCal):   \n",
    "    pass       ### 이걸 왜 써야하지?\n",
    "a = MoreFourCal(4,2)\n",
    "print(a.add())\n",
    "\n",
    "# a의 b제곱을 계산하는 MoreFourCal 클래스 만들기\n",
    "class MoreFourCal(FourCal):    # 상속 : 기존클래스는 그대로 놔둔채 클래스의 기능을 확장시키는데 사용\n",
    "    def pow(self):\n",
    "        result = self.first ** self.second\n",
    "        return result\n",
    "    \n",
    "a = MoreFourCal(4,2)\n",
    "print(a.pow())\n",
    "\n",
    "# 메서드 오버라이딩\n",
    "class SafeFourCal(FourCal):\n",
    "    def div(self):   # 이렇게 부모클래스에있는 메서드를 동일한이름으로 다시만드는거 : 메서드오버라이딩\n",
    "                     # 메서드 오버라이딩을 하게되면 부모클래스의 메서드대신 오버라이딩한 메서드가 호출됨\n",
    "        if self.second == 0:\n",
    "            return 0\n",
    "        else:\n",
    "            return self.first / self.second\n",
    "        \n",
    "a = SafeFourCal(4,0)\n",
    "print(a.div())"
   ]
  },
  {
   "cell_type": "code",
   "execution_count": null,
   "id": "26d952f4",
   "metadata": {},
   "outputs": [],
   "source": [
    "# 클래스 변수\n",
    "\n",
    "\n"
   ]
  },
  {
   "cell_type": "code",
   "execution_count": null,
   "id": "f87ea20f",
   "metadata": {},
   "outputs": [],
   "source": [
    "# 모듈\n",
    "\n",
    "# import 사용방법 \n",
    "# - import 모듈이름\n",
    "# - from 모듈이름 import 모듈함수(ex. add), 모듈함수"
   ]
  },
  {
   "cell_type": "code",
   "execution_count": null,
   "id": "fd72a478",
   "metadata": {},
   "outputs": [],
   "source": []
  },
  {
   "cell_type": "code",
   "execution_count": null,
   "id": "20f0ae82",
   "metadata": {},
   "outputs": [],
   "source": []
  },
  {
   "cell_type": "code",
   "execution_count": null,
   "id": "3d4ebc75",
   "metadata": {},
   "outputs": [],
   "source": []
  },
  {
   "cell_type": "code",
   "execution_count": null,
   "id": "f61ee0b6",
   "metadata": {},
   "outputs": [],
   "source": []
  },
  {
   "cell_type": "code",
   "execution_count": null,
   "id": "4ebd40a7",
   "metadata": {},
   "outputs": [],
   "source": []
  }
 ],
 "metadata": {
  "kernelspec": {
   "display_name": "Python 3 (ipykernel)",
   "language": "python",
   "name": "python3"
  },
  "language_info": {
   "codemirror_mode": {
    "name": "ipython",
    "version": 3
   },
   "file_extension": ".py",
   "mimetype": "text/x-python",
   "name": "python",
   "nbconvert_exporter": "python",
   "pygments_lexer": "ipython3",
   "version": "3.10.7"
  }
 },
 "nbformat": 4,
 "nbformat_minor": 5
}
